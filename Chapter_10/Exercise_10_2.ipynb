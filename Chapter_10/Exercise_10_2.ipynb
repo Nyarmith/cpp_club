{
 "cells": [
  {
   "cell_type": "markdown",
   "metadata": {},
   "source": [
    "## 10.2\n",
    "Rewrite the median function from chapter 8, section 1.1 so that we can call it with either a vector or a built-in array. The function should allow containers of any arithmetic type."
   ]
  },
  {
   "cell_type": "code",
   "execution_count": 1,
   "metadata": {},
   "outputs": [
    {
     "data": {
      "text/plain": []
     },
     "execution_count": 1,
     "metadata": {},
     "output_type": "execute_result"
    }
   ],
   "source": [
    "#include <vector>\n",
    "#include <iostream>\n",
    "#include <string>\n",
    "#include <algorithm>\n",
    "#include <stdexcept>"
   ]
  },
  {
   "cell_type": "code",
   "execution_count": 2,
   "metadata": {},
   "outputs": [
    {
     "data": {
      "text/plain": []
     },
     "execution_count": 2,
     "metadata": {},
     "output_type": "execute_result"
    }
   ],
   "source": [
    "//BEFORE\n",
    "template <class T> \n",
    "T median(std::vector<T> v){\n",
    "    typedef typename std::vector<T>::size_type vec_sz;\n",
    "    \n",
    "    vec_sz size = v.size();\n",
    "    if (size == 0)\n",
    "        throw std::domain_error(\"median of an empty vector\");\n",
    "    \n",
    "    std::sort(v.begin(), v.end());\n",
    "    \n",
    "    vec_sz mid = size/2;\n",
    "    \n",
    "    return size % 2 == 0 ? (v[mid] + v[mid-1]) / 2 : v[mid];\n",
    "}"
   ]
  },
  {
   "cell_type": "code",
   "execution_count": 3,
   "metadata": {},
   "outputs": [
    {
     "data": {
      "text/plain": []
     },
     "execution_count": 3,
     "metadata": {},
     "output_type": "execute_result"
    }
   ],
   "source": [
    "std::vector<int> A {5,2,3,1,4};"
   ]
  },
  {
   "cell_type": "code",
   "execution_count": 4,
   "metadata": {},
   "outputs": [
    {
     "name": "stdout",
     "output_type": "stream",
     "text": [
      "3"
     ]
    },
    {
     "data": {
      "text/plain": [
       "(std::basic_ostream<char, std::char_traits<char> >::__ostream_type &) @0x7fb8d907ef40\n"
      ]
     },
     "execution_count": 4,
     "metadata": {},
     "output_type": "execute_result"
    }
   ],
   "source": [
    "std::cout << median(A);"
   ]
  },
  {
   "cell_type": "code",
   "execution_count": 5,
   "metadata": {},
   "outputs": [
    {
     "data": {
      "text/plain": []
     },
     "execution_count": 5,
     "metadata": {},
     "output_type": "execute_result"
    }
   ],
   "source": [
    "int B[5] = {5,2,3,1,4};"
   ]
  },
  {
   "cell_type": "code",
   "execution_count": 6,
   "metadata": {},
   "outputs": [
    {
     "name": "stderr",
     "output_type": "stream",
     "text": [
      "\u001b[1minput_line_11:2:15: \u001b[0m\u001b[0;1;31merror: \u001b[0m\u001b[1mno matching function for call to 'median'\u001b[0m\n",
      " std::cout << median(B);\n",
      "\u001b[0;1;32m              ^~~~~~\n",
      "\u001b[0m\u001b[1minput_line_4:3:3: \u001b[0m\u001b[0;1;30mnote: \u001b[0mcandidate template ignored: could not match 'vector<type-parameter-0-0, allocator<type-parameter-0-0> >' against 'int *'\u001b[0m\n",
      "T median(std::vector<T> v){\n",
      "\u001b[0;1;32m  ^\n",
      "\u001b[0m"
     ]
    },
    {
     "ename": "ename",
     "evalue": "evalue",
     "output_type": "error",
     "traceback": []
    }
   ],
   "source": [
    "std::cout << median(B);"
   ]
  },
  {
   "cell_type": "code",
   "execution_count": 7,
   "metadata": {},
   "outputs": [
    {
     "data": {
      "text/plain": []
     },
     "execution_count": 7,
     "metadata": {},
     "output_type": "execute_result"
    }
   ],
   "source": [
    "//AFTER\n",
    "template <class T, class Iterator> \n",
    "T median(Iterator begin, Iterator end){\n",
    "    \n",
    "    //some more generic kind of size_type\n",
    "    typedef typename std::vector<T>::size_type vec_sz;\n",
    "    \n",
    "    //do arrays have a begin?\n",
    "    std::sort(begin, end);\n",
    "    \n",
    "    //get the mid\n",
    "    while (begin != end){\n",
    "        ++begin;\n",
    "        if (begin == end){\n",
    "            --begin;\n",
    "            return (*begin + *end) / 2;\n",
    "        }\n",
    "        --end;\n",
    "    }\n",
    "    return *begin;\n",
    "}"
   ]
  },
  {
   "cell_type": "code",
   "execution_count": 9,
   "metadata": {},
   "outputs": [
    {
     "name": "stdout",
     "output_type": "stream",
     "text": [
      "3"
     ]
    },
    {
     "data": {
      "text/plain": [
       "(std::basic_ostream<char, std::char_traits<char> >::__ostream_type &) @0x7fb8d907ef40\n"
      ]
     },
     "execution_count": 9,
     "metadata": {},
     "output_type": "execute_result"
    }
   ],
   "source": [
    "std::cout << median<int>(B, B+5);  //remember, this works because the end iterator is NOT an element of the set"
   ]
  },
  {
   "cell_type": "code",
   "execution_count": null,
   "metadata": {},
   "outputs": [],
   "source": []
  }
 ],
 "metadata": {
  "kernelspec": {
   "display_name": "C++14",
   "language": "",
   "name": "cling-cpp14"
  },
  "language_info": {
   "codemirror_mode": "c++",
   "file_extension": ".c++",
   "mimetype": "text/x-c++src",
   "name": "c++"
  }
 },
 "nbformat": 4,
 "nbformat_minor": 2
}
