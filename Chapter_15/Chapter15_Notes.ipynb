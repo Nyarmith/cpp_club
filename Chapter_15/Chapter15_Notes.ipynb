{
 "cells": [
  {
   "cell_type": "markdown",
   "metadata": {},
   "source": [
    "# Chapter 15 : Design\n",
    "\n",
    "Since this is about design, then it's probably the most important chapter, right?\n",
    "\n"
   ]
  },
  {
   "cell_type": "code",
   "execution_count": 1,
   "metadata": {},
   "outputs": [
    {
     "data": {
      "text/plain": []
     },
     "execution_count": 1,
     "metadata": {},
     "output_type": "execute_result"
    }
   ],
   "source": [
    "#include <algorithm>\n",
    "#include <iostream>\n",
    "#include <cstddef>\n",
    "#include <stdexcept>"
   ]
  },
  {
   "cell_type": "code",
   "execution_count": 2,
   "metadata": {},
   "outputs": [
    {
     "name": "stderr",
     "output_type": "stream",
     "text": [
      "Using raw input\n"
     ]
    },
    {
     "data": {
      "text/plain": []
     },
     "execution_count": 2,
     "metadata": {},
     "output_type": "execute_result"
    }
   ],
   "source": [
    ".rawInput"
   ]
  },
  {
   "cell_type": "code",
   "execution_count": 3,
   "metadata": {},
   "outputs": [
    {
     "data": {
      "text/plain": []
     },
     "execution_count": 3,
     "metadata": {},
     "output_type": "execute_result"
    }
   ],
   "source": [
    "class Ref_count {\n",
    "public:\n",
    "  Ref_count(): count(new std::size_t(1)) { }\n",
    "\n",
    "  std::size_t val() const { return *count; }\n",
    "  void operator ++() const { ++*count; }\n",
    "  void operator --() const { if (--*count == 0) delete count; }\n",
    "\n",
    "private:\n",
    "  std::size_t* count;\n",
    "};\n",
    "\n",
    "template <class T> class Ptr {\n",
    " public:\n",
    "  void make_unique() {\n",
    "    if (refptr.val() != 1) {\n",
    "      --refptr;\n",
    "      refptr = Ref_count();\n",
    "      p = p? clone(p): 0;\n",
    "    }\n",
    "  }\n",
    "\n",
    " Ptr(): p(0) { }\n",
    " Ptr(T* t): p(t) { }\n",
    " Ptr(const Ptr& h): p(h.p), refptr(h.refptr) { ++refptr; }\n",
    "\n",
    "  Ptr& operator=(const Ptr&);\n",
    "  ~Ptr();\n",
    "  operator bool() const { return p; }\n",
    "  T& operator*() const;\n",
    "  T* operator->() const;\n",
    "\n",
    " private:\n",
    "  T* p;\n",
    "  Ref_count refptr;\n",
    "};\n",
    "\n",
    "template <class T> T* clone(const T* tp) {\n",
    "  return tp->clone();\n",
    "}\n",
    "\n",
    "template<class T> T& Ptr<T>::operator*() const { \n",
    "  if (p) return *p; throw std::runtime_error(\"unbound Ptr\"); \n",
    "}\n",
    "\n",
    "template<class T> T* Ptr<T>::operator->() const { \n",
    "  if (p) return p; throw std::runtime_error(\"unbound Ptr\"); \n",
    "}\n",
    "\n",
    "template<class T> Ptr<T>& Ptr<T>::operator=(const Ptr& rhs) {\n",
    "  ++rhs.refptr;\n",
    "  --refptr;\n",
    "\n",
    "  if (refptr.val() == 0) {\n",
    "    delete p;\n",
    "  }\n",
    "\n",
    "  refptr = rhs.refptr;\n",
    "  p = rhs.p;\n",
    "\n",
    "  return *this;\n",
    "}\n",
    "\n",
    "  template<class T> Ptr<T>::~Ptr() {\n",
    "    --refptr;\n",
    "\n",
    "    if (refptr.val() == 0) {\n",
    "      delete p;\n",
    "    }\n",
    "}"
   ]
  },
  {
   "cell_type": "code",
   "execution_count": 4,
   "metadata": {},
   "outputs": [
    {
     "name": "stderr",
     "output_type": "stream",
     "text": [
      "Not using raw input\n"
     ]
    },
    {
     "data": {
      "text/plain": []
     },
     "execution_count": 4,
     "metadata": {},
     "output_type": "execute_result"
    }
   ],
   "source": [
    ".rawInput"
   ]
  },
  {
   "cell_type": "code",
   "execution_count": 5,
   "metadata": {},
   "outputs": [
    {
     "name": "stderr",
     "output_type": "stream",
     "text": [
      "Using raw input\n"
     ]
    },
    {
     "data": {
      "text/plain": []
     },
     "execution_count": 5,
     "metadata": {},
     "output_type": "execute_result"
    }
   ],
   "source": [
    ".rawInput"
   ]
  },
  {
   "cell_type": "code",
   "execution_count": 6,
   "metadata": {},
   "outputs": [
    {
     "name": "stderr",
     "output_type": "stream",
     "text": [
      "\u001b[1minput_line_5:2:56: \u001b[0m\u001b[0;1;31merror: \u001b[0m\u001b[1munknown type name 'Picture'\u001b[0m\n",
      "  friend std::ostream& operator<<(std::ostream&, const Picture&);\n",
      "\u001b[0;1;32m                                                       ^\n",
      "\u001b[0m\u001b[1minput_line_5:10:11: \u001b[0m\u001b[0;1;31merror: \u001b[0m\u001b[1mno template named 'Vec'\u001b[0m\n",
      "  typedef Vec<Str>::size_type ht_sz;\n",
      "\u001b[0;1;32m          ^\n",
      "\u001b[0m\u001b[1minput_line_5:10:15: \u001b[0m\u001b[0;1;31merror: \u001b[0m\u001b[1muse of undeclared identifier 'Str'; did you mean 'Ptr'?\u001b[0m\n",
      "  typedef Vec<Str>::size_type ht_sz;\n",
      "\u001b[0;1;32m              ^~~\n",
      "\u001b[0m\u001b[0;32m              Ptr\n",
      "\u001b[0m\u001b[1minput_line_4:13:26: \u001b[0m\u001b[0;1;30mnote: \u001b[0m'Ptr' declared here\u001b[0m\n",
      "template <class T> class Ptr {\n",
      "\u001b[0;1;32m                         ^\n",
      "\u001b[0m\u001b[1minput_line_5:10:15: \u001b[0m\u001b[0;1;31merror: \u001b[0m\u001b[1mno template named 'Str'; did you mean 'Ptr'?\u001b[0m\n",
      "  typedef Vec<Str>::size_type ht_sz;\n",
      "\u001b[0;1;32m              ^~~\n",
      "\u001b[0m\u001b[0;32m              Ptr\n",
      "\u001b[0m\u001b[1minput_line_4:13:26: \u001b[0m\u001b[0;1;30mnote: \u001b[0m'Ptr' declared here\u001b[0m\n",
      "template <class T> class Ptr {\n",
      "\u001b[0;1;32m                         ^\n",
      "\u001b[0m\u001b[1minput_line_5:10:21: \u001b[0m\u001b[0;1;31merror: \u001b[0m\u001b[1mnon-friend class member 'size_type' cannot have a qualified name\u001b[0m\n",
      "  typedef Vec<Str>::size_type ht_sz;\n",
      "\u001b[0;1;32m                  ~~^\n",
      "\u001b[0m\u001b[1minput_line_5:10:21: \u001b[0m\u001b[0;1;31merror: \u001b[0m\u001b[1mtypedef declarator cannot be qualified\u001b[0m\n",
      "  typedef Vec<Str>::size_type ht_sz;\n",
      "\u001b[0;1;32m                  ~~^\n",
      "\u001b[0m\u001b[1minput_line_5:10:30: \u001b[0m\u001b[0;1;31merror: \u001b[0m\u001b[1mexpected ';' at end of declaration list\u001b[0m\n",
      "  typedef Vec<Str>::size_type ht_sz;\n",
      "\u001b[0;1;32m                             ^\n",
      "\u001b[0m\u001b[0;32m                             ;\n",
      "\u001b[0m\u001b[1minput_line_5:11:11: \u001b[0m\u001b[0;1;31merror: \u001b[0m\u001b[1muse of undeclared identifier 'Str'\u001b[0m\n",
      "  typedef Str::size_type wd_sz;\n",
      "\u001b[0;1;32m          ^\n",
      "\u001b[0m\u001b[1minput_line_5:15:11: \u001b[0m\u001b[0;1;31merror: \u001b[0m\u001b[1munknown type name 'ht_sz'\u001b[0m\n",
      "  virtual ht_sz height() const = 0;\n",
      "\u001b[0;1;32m          ^\n",
      "\u001b[0m\u001b[1minput_line_5:16:39: \u001b[0m\u001b[0;1;31merror: \u001b[0m\u001b[1mC++ requires a type specifier for all declarations\u001b[0m\n",
      "  virtual void display(std::ostream&, ht_sz, bool) const = 0;\n",
      "\u001b[0;1;32m                                      ^\n",
      "\u001b[0m\u001b[1minput_line_5:33:17: \u001b[0m\u001b[0;1;31merror: \u001b[0m\u001b[1mno template named 'Vec'\u001b[0m\n",
      "  Picture(const Vec<Str>& = Vec<Str>());\n",
      "\u001b[0;1;32m                ^\n",
      "\u001b[0m\u001b[1minput_line_5:33:21: \u001b[0m\u001b[0;1;31merror: \u001b[0m\u001b[1muse of undeclared identifier 'Str'; did you mean 'Ptr'?\u001b[0m\n",
      "  Picture(const Vec<Str>& = Vec<Str>());\n",
      "\u001b[0;1;32m                    ^~~\n",
      "\u001b[0m\u001b[0;32m                    Ptr\n",
      "\u001b[0m\u001b[1minput_line_4:13:26: \u001b[0m\u001b[0;1;30mnote: \u001b[0m'Ptr' declared here\u001b[0m\n",
      "template <class T> class Ptr {\n",
      "\u001b[0;1;32m                         ^\n",
      "\u001b[0m\u001b[1minput_line_5:33:21: \u001b[0m\u001b[0;1;31merror: \u001b[0m\u001b[1mno template named 'Str'; did you mean 'Ptr'?\u001b[0m\n",
      "  Picture(const Vec<Str>& = Vec<Str>());\n",
      "\u001b[0;1;32m                    ^~~\n",
      "\u001b[0m\u001b[0;32m                    Ptr\n",
      "\u001b[0m\u001b[1minput_line_4:13:26: \u001b[0m\u001b[0;1;30mnote: \u001b[0m'Ptr' declared here\u001b[0m\n",
      "template <class T> class Ptr {\n",
      "\u001b[0;1;32m                         ^\n",
      "\u001b[0m\u001b[1minput_line_5:33:29: \u001b[0m\u001b[0;1;31merror: \u001b[0m\u001b[1muse of undeclared identifier 'Vec'\u001b[0m\n",
      "  Picture(const Vec<Str>& = Vec<Str>());\n",
      "\u001b[0;1;32m                            ^\n",
      "\u001b[0m\u001b[1minput_line_5:33:33: \u001b[0m\u001b[0;1;31merror: \u001b[0m\u001b[1muse of undeclared identifier 'Str'\u001b[0m\n",
      "  Picture(const Vec<Str>& = Vec<Str>());\n",
      "\u001b[0;1;32m                                ^\n",
      "\u001b[0m\u001b[1minput_line_5:33:38: \u001b[0m\u001b[0;1;31merror: \u001b[0m\u001b[1mexpected expression\u001b[0m\n",
      "  Picture(const Vec<Str>& = Vec<Str>());\n",
      "\u001b[0;1;32m                                     ^\n",
      "\u001b[0m"
     ]
    },
    {
     "ename": "ename",
     "evalue": "evalue",
     "output_type": "error",
     "traceback": []
    }
   ],
   "source": [
    "class Pic_base {\n",
    "  friend std::ostream& operator<<(std::ostream&, const Picture&);\n",
    "  friend class Frame_Pic;\n",
    "  friend class HCat_Pic;\n",
    "  friend class VCat_Pic;\n",
    "  friend class String_Pic;\n",
    "  friend class Picture;\n",
    "\n",
    "  // no `public' interface (except for the destructor)\n",
    "  typedef Vec<Str>::size_type ht_sz;\n",
    "  typedef Str::size_type wd_sz;\n",
    "\n",
    "  // this class is an abstract base class\n",
    "  virtual wd_sz width() const = 0;\n",
    "  virtual ht_sz height() const = 0;\n",
    "  virtual void display(std::ostream&, ht_sz, bool) const = 0;\n",
    "  virtual void reframe(char, char, char) = 0;\n",
    "\n",
    " public:\n",
    "  virtual ~Pic_base() { }\n",
    "\n",
    " protected:\n",
    "  static void pad(std::ostream& os, wd_sz, wd_sz);\n",
    "};\n",
    "\n",
    "class Picture {\n",
    "  friend std::ostream& operator<<(std::ostream&, const Picture&);\n",
    "  friend Picture frame(const Picture&);\n",
    "  friend Picture hcat(const Picture&, const Picture&);\n",
    "  friend Picture vcat(const Picture&, const Picture&);\n",
    "\n",
    " public:\n",
    "  Picture(const Vec<Str>& = Vec<Str>());\n",
    "  void reframe(char c, char t_b, char s) { p->reframe(c, t_b, s); }\n",
    "\n",
    " private:\n",
    " Picture(Pic_base* ptr): p(ptr) { }\n",
    "  Ptr<Pic_base> p;\n",
    "};"
   ]
  },
  {
   "cell_type": "code",
   "execution_count": null,
   "metadata": {
    "collapsed": true
   },
   "outputs": [],
   "source": [
    ".rawInput"
   ]
  },
  {
   "cell_type": "code",
   "execution_count": null,
   "metadata": {
    "collapsed": true
   },
   "outputs": [],
   "source": [
    ".rawInput"
   ]
  },
  {
   "cell_type": "code",
   "execution_count": null,
   "metadata": {
    "collapsed": true
   },
   "outputs": [],
   "source": [
    "Picture frame(const Picture&);\n",
    "Picture hcat(const Picture&, const Picture&);\n",
    "Picture vcat(const Picture&, const Picture&);\n",
    "std::ostream& operator<<(std::ostream&, const Picture&);\n",
    "\n",
    "class String_Pic: public Pic_base {\n",
    "  friend class Picture;\n",
    "  Vec<Str> data;\n",
    " String_Pic(const Vec<Str>& v): data(v) { }\n",
    "\n",
    "  ht_sz height() const { return data.size(); }\n",
    "  wd_sz width() const;\n",
    "  void display(std::ostream&, ht_sz, bool) const;\n",
    "  void reframe(char, char, char) { }\n",
    "};\n",
    "\n",
    "class VCat_Pic: public Pic_base {\n",
    "  friend Picture vcat(const Picture&, const Picture&);\n",
    "\n",
    "  Ptr<Pic_base> top, bottom;\n",
    "\n",
    " VCat_Pic(const Ptr<Pic_base>& t, const Ptr<Pic_base>& b):\n",
    "  top(t), bottom(b) { }\n",
    "\n",
    "  wd_sz width() const { return std::max(top->width(), bottom->width()); }\n",
    "  ht_sz height() const { return top->height() + bottom->height(); }\n",
    "  void display(std::ostream&, ht_sz, bool) const;\n",
    "  void reframe(char, char, char);\n",
    "};\n",
    "\n",
    "class HCat_Pic: public Pic_base {\n",
    "  friend Picture hcat(const Picture&, const Picture&);\n",
    "\n",
    "  Ptr<Pic_base> left, right;\n",
    "\n",
    " HCat_Pic(const Ptr<Pic_base>& l, const Ptr<Pic_base>& r):\n",
    "  left(l), right(r) { }\n",
    "\n",
    "  wd_sz width() const { return left->width() + right->width(); }\n",
    "  ht_sz height() const { return std::max(left->height(), right->height()); }\n",
    "  void display(std::ostream&, ht_sz, bool) const;\n",
    "  void reframe(char, char, char);\n",
    "};\n",
    "\n",
    "class Frame_Pic: public Pic_base {\n",
    "  friend Picture frame(const Picture&);\n",
    "\n",
    "  Ptr<Pic_base> p;\n",
    "  char corner;\n",
    "  char top_bottom;\n",
    "  char side;\n",
    "\n",
    " Frame_Pic(const Ptr<Pic_base>& pic): p(pic), corner('*'), top_bottom('-'), \n",
    "    side('|') { }\n",
    "\n",
    "  wd_sz width() const { return p->width() + 4; }\n",
    "  ht_sz height() const { return p->height() + 4; }\n",
    "  void display(std::ostream&, ht_sz, bool) const;\n",
    "  void reframe(char, char, char);\n",
    "};"
   ]
  },
  {
   "cell_type": "code",
   "execution_count": null,
   "metadata": {
    "collapsed": true
   },
   "outputs": [],
   "source": [
    ".rawInput"
   ]
  }
 ],
 "metadata": {
  "kernelspec": {
   "display_name": "C++14",
   "language": "",
   "name": "cling-cpp14"
  },
  "language_info": {
   "codemirror_mode": "c++",
   "file_extension": ".c++",
   "mimetype": "text/x-c++src",
   "name": "c++"
  }
 },
 "nbformat": 4,
 "nbformat_minor": 2
}
