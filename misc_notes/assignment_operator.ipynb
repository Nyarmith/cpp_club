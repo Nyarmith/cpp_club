{
 "cells": [
  {
   "cell_type": "markdown",
   "metadata": {},
   "source": [
    "## For more info look at chapter 9 of the notes\n",
    "\n",
    "but basically, **copy constructor**=used to initialize a previously uninitialized object with some other object, whereas **assignment operator**=overwrite existing object with some other object's data. The default constructor uses a copy-constructor."
   ]
  },
  {
   "cell_type": "code",
   "execution_count": 1,
   "metadata": {},
   "outputs": [
    {
     "data": {
      "text/plain": []
     },
     "execution_count": 1,
     "metadata": {},
     "output_type": "execute_result"
    }
   ],
   "source": [
    "#include <iostream>"
   ]
  },
  {
   "cell_type": "code",
   "execution_count": 2,
   "metadata": {},
   "outputs": [
    {
     "data": {
      "text/plain": []
     },
     "execution_count": 2,
     "metadata": {},
     "output_type": "execute_result"
    }
   ],
   "source": [
    "class Wow\n",
    "{\n",
    "public:\n",
    "    Wow() { y = x = -1; }\n",
    "    explicit Wow(int a) { y = x = a; }\n",
    "    \n",
    "    Wow (const Wow &t)\n",
    "    {\n",
    "       y = t.y; x = t.x;\n",
    "       std::cout<<\"Copy constructor called Wow \"<<std::endl;\n",
    "    }\n",
    "    \n",
    "    Wow& operator = (const Wow &t)\n",
    "    {\n",
    "       y = t.y; x = t.x;\n",
    "       std::cout<<\"Assignment operator called Wow \"<<std::endl;\n",
    "       return *this;\n",
    "    }\n",
    "    void print() { std::cout << \"\\nyx \" << y << \" \" << x << \"\\n\"; }\n",
    "protected:\n",
    "    int y, x;\n",
    "};\n",
    "\n",
    "class Wew\n",
    "{\n",
    "public:\n",
    "    Wew() { y = x = -1; }\n",
    "    Wew(int a) { y = x = a; }\n",
    "    void print() { std::cout << \"\\nyx \" << y << \" \" << x << \"\\n\"; }\n",
    "    \n",
    "    //copy constructor\n",
    "    Wew (const Wew &t)\n",
    "    {\n",
    "       y = t.y; x = t.x;\n",
    "       std::cout<<\"Copy constructor called Wew \"<<std::endl;\n",
    "    }\n",
    "\n",
    "    \n",
    "    Wew& operator = (const Wew &t)\n",
    "    {\n",
    "      y = t.y; x = t.x;\n",
    "      std::cout<<\"Assignment operator called Wew \"<<std::endl;\n",
    "      return *this;\n",
    "    }\n",
    "protected:\n",
    "    int y, x;\n",
    "};\n",
    "\n",
    "class Wuw : public Wow\n",
    "{\n",
    "public:\n",
    "    Wuw(int ayy) { y = x = ayy; }\n",
    "};\n",
    "\n",
    "class Uwu : public Wew\n",
    "{\n",
    "public:\n",
    "    explicit Uwu(int ayy) { y = x = ayy; }\n",
    "};"
   ]
  },
  {
   "cell_type": "code",
   "execution_count": 3,
   "metadata": {},
   "outputs": [
    {
     "data": {
      "text/plain": []
     },
     "execution_count": 3,
     "metadata": {},
     "output_type": "execute_result"
    }
   ],
   "source": [
    "//explicit thing\n",
    "// Wow a1 = 2; //as expected, this does not compile\n",
    "Wow a2(2);\n",
    "Wow a3 = Wow(3);\n",
    "//^^but these two do compile\n",
    "\n",
    "//notice no assignment operator called here"
   ]
  },
  {
   "cell_type": "code",
   "execution_count": 4,
   "metadata": {},
   "outputs": [
    {
     "name": "stdout",
     "output_type": "stream",
     "text": [
      "Assignment operator called Wow \n"
     ]
    },
    {
     "data": {
      "text/plain": [
       "(Wow &) @0x7f6ef7430014\n"
      ]
     },
     "execution_count": 4,
     "metadata": {},
     "output_type": "execute_result"
    }
   ],
   "source": [
    "a2 = a3;"
   ]
  },
  {
   "cell_type": "code",
   "execution_count": 13,
   "metadata": {},
   "outputs": [
    {
     "name": "stdout",
     "output_type": "stream",
     "text": [
      "Copy constructor called Wow \n"
     ]
    },
    {
     "data": {
      "text/plain": []
     },
     "execution_count": 13,
     "metadata": {},
     "output_type": "execute_result"
    }
   ],
   "source": [
    "Wow cc_a = a2;"
   ]
  },
  {
   "cell_type": "code",
   "execution_count": 5,
   "metadata": {},
   "outputs": [
    {
     "data": {
      "text/plain": []
     },
     "execution_count": 5,
     "metadata": {},
     "output_type": "execute_result"
    }
   ],
   "source": [
    "Wew b1 = 4;\n",
    "Wew b2(4);\n",
    "Wew b3 = Wew(4);\n",
    "//notice no assignment operator called here"
   ]
  },
  {
   "cell_type": "code",
   "execution_count": 6,
   "metadata": {},
   "outputs": [
    {
     "name": "stdout",
     "output_type": "stream",
     "text": [
      "Assignment operator called Wew \n"
     ]
    },
    {
     "data": {
      "text/plain": [
       "(Wew &) @0x7f6ef7430034\n"
      ]
     },
     "execution_count": 6,
     "metadata": {},
     "output_type": "execute_result"
    }
   ],
   "source": [
    "b3 = b1;"
   ]
  },
  {
   "cell_type": "code",
   "execution_count": 14,
   "metadata": {},
   "outputs": [
    {
     "name": "stdout",
     "output_type": "stream",
     "text": [
      "Copy constructor called Wew \n"
     ]
    },
    {
     "data": {
      "text/plain": []
     },
     "execution_count": 14,
     "metadata": {},
     "output_type": "execute_result"
    }
   ],
   "source": [
    "Wew cc_b = b2;"
   ]
  },
  {
   "cell_type": "code",
   "execution_count": 7,
   "metadata": {},
   "outputs": [
    {
     "data": {
      "text/plain": []
     },
     "execution_count": 7,
     "metadata": {},
     "output_type": "execute_result"
    }
   ],
   "source": [
    "Wuw c1 = 5;  //since this works, it means the latest class declaration overrides the explicit constructor = good = intuitive\n",
    "Wuw c2(5);\n",
    "Wuw c3 = Wuw(5);"
   ]
  },
  {
   "cell_type": "code",
   "execution_count": 8,
   "metadata": {},
   "outputs": [
    {
     "name": "stdout",
     "output_type": "stream",
     "text": [
      "Assignment operator called Wow \n"
     ]
    },
    {
     "data": {
      "text/plain": [
       "(Wuw &) @0x7f6ef7430044\n"
      ]
     },
     "execution_count": 8,
     "metadata": {},
     "output_type": "execute_result"
    }
   ],
   "source": [
    "c2 = c1;"
   ]
  },
  {
   "cell_type": "code",
   "execution_count": 16,
   "metadata": {},
   "outputs": [
    {
     "name": "stdout",
     "output_type": "stream",
     "text": [
      "Copy constructor called Wow \n"
     ]
    },
    {
     "data": {
      "text/plain": []
     },
     "execution_count": 16,
     "metadata": {},
     "output_type": "execute_result"
    }
   ],
   "source": [
    "Wuw cc_c = c2;  //can use inherited copy constructor"
   ]
  },
  {
   "cell_type": "code",
   "execution_count": 9,
   "metadata": {},
   "outputs": [
    {
     "data": {
      "text/plain": []
     },
     "execution_count": 9,
     "metadata": {},
     "output_type": "execute_result"
    }
   ],
   "source": [
    "//Uwu d1 = 6; //since this doesn't work, it means that the latest explicit modifier takes place = good = intuitive\n",
    "Uwu d2(6);\n",
    "Uwu d3 = Uwu(6);\n",
    "\n",
    "//like all of the above, no assignment operation called upon a declared initialization"
   ]
  },
  {
   "cell_type": "code",
   "execution_count": 10,
   "metadata": {},
   "outputs": [
    {
     "name": "stdout",
     "output_type": "stream",
     "text": [
      "Assignment operator called Wew \n"
     ]
    },
    {
     "data": {
      "text/plain": [
       "(Uwu &) @0x7f6ef7430054\n"
      ]
     },
     "execution_count": 10,
     "metadata": {},
     "output_type": "execute_result"
    }
   ],
   "source": [
    "d2 = d3;"
   ]
  },
  {
   "cell_type": "code",
   "execution_count": 18,
   "metadata": {},
   "outputs": [
    {
     "name": "stdout",
     "output_type": "stream",
     "text": [
      "Copy constructor called Wew \n"
     ]
    },
    {
     "data": {
      "text/plain": []
     },
     "execution_count": 18,
     "metadata": {},
     "output_type": "execute_result"
    }
   ],
   "source": [
    "Uwu cc_d = d3;"
   ]
  },
  {
   "cell_type": "code",
   "execution_count": 11,
   "metadata": {},
   "outputs": [
    {
     "name": "stdout",
     "output_type": "stream",
     "text": [
      "Assignment operator called \n",
      "Copy constructor called \n"
     ]
    },
    {
     "data": {
      "text/plain": []
     },
     "execution_count": 11,
     "metadata": {},
     "output_type": "execute_result"
    }
   ],
   "source": [
    "class Test\n",
    "{\n",
    "public:\n",
    "   Test() {}\n",
    "   Test(const Test &t)\n",
    "   {\n",
    "      std::cout<<\"Copy constructor called \"<<std::endl;\n",
    "   }\n",
    "   Test& operator = (const Test &t)\n",
    "   {\n",
    "      std::cout<<\"Assignment operator called \"<<std::endl; return *this;\n",
    "   }\n",
    "};\n",
    " \n",
    "Test t1, t2;\n",
    "t2 = t1;\n",
    "Test t3 = t1;\n",
    "\n"
   ]
  }
 ],
 "metadata": {
  "kernelspec": {
   "display_name": "C++14",
   "language": "",
   "name": "cling-cpp14"
  },
  "language_info": {
   "codemirror_mode": "c++",
   "file_extension": ".c++",
   "mimetype": "text/x-c++src",
   "name": "c++"
  }
 },
 "nbformat": 4,
 "nbformat_minor": 2
}
