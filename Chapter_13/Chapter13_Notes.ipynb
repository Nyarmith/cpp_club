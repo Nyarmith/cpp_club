{
 "cells": [
  {
   "cell_type": "markdown",
   "metadata": {},
   "source": [
    "# Chapter 13 : Using Inheritance and Dynamic Binding\n",
    "\n",
    "\n",
    "## 13.1 Inheritance\n",
    "\n",
    "\n",
    "So we're modling students now. Renaming Student_info to core, and reserving Student_info as a `name` that denotes any kind of student."
   ]
  },
  {
   "cell_type": "code",
   "execution_count": 1,
   "metadata": {},
   "outputs": [
    {
     "data": {
      "text/plain": []
     },
     "execution_count": 1,
     "metadata": {},
     "output_type": "execute_result"
    }
   ],
   "source": [
    "#include <iostream>\n",
    "#include <algorithm>\n",
    "#include <string>\n",
    "#include <vector>"
   ]
  },
  {
   "cell_type": "code",
   "execution_count": 2,
   "metadata": {},
   "outputs": [
    {
     "name": "stderr",
     "output_type": "stream",
     "text": [
      "Using raw input\n"
     ]
    },
    {
     "data": {
      "text/plain": []
     },
     "execution_count": 2,
     "metadata": {},
     "output_type": "execute_result"
    }
   ],
   "source": [
    ".rawInput"
   ]
  },
  {
   "cell_type": "code",
   "execution_count": 3,
   "metadata": {},
   "outputs": [
    {
     "data": {
      "text/plain": []
     },
     "execution_count": 3,
     "metadata": {},
     "output_type": "execute_result"
    }
   ],
   "source": [
    "double grade(double midterm, double final, const std::vector<double> C){\n",
    "    typedef std::vector<int>::size_type s_type;\n",
    "    double hw_grade = std::accumulate(C.begin(), C.end(), 0) / C.size();\n",
    "    return (.3*midterm + .3*final + .4*hw_grade);\n",
    "}\n",
    "\n",
    "std::istream& read_hw(std::istream& in, std::vector<double>& hw) {\n",
    "  if (in) {\n",
    "    // get rid of previous contents\n",
    "    hw.clear();\n",
    "\n",
    "    // read homework grades\n",
    "    double x;\n",
    "    while (in >> x) hw.push_back(x);\n",
    "\n",
    "    // clear the stream so that input will work for the next student\n",
    "    in.clear();\n",
    "  }\n",
    "\n",
    "  return in;\n",
    "}\n",
    "\n",
    "class Core {\n",
    "public:\n",
    "    Core();\n",
    "    Core(std::istream&);\n",
    "    std::string name() const;\n",
    "    double grade() const;\n",
    "    std::istream& read(std::istream&);\n",
    "protected:\n",
    "    std::istream& read_common(std::istream&);\n",
    "    double midterm, final;\n",
    "    std::vector<double> homework;\n",
    "private:\n",
    "    std::string n;\n",
    "};\n",
    "\n",
    "std::string Core::name() const { return n; }\n",
    "double Core::grade() const\n",
    "{\n",
    "    //use function grade in global namespace\n",
    "    return ::grade(midterm, final, homework);\n",
    "}\n",
    "std::istream& Core::read_common(std::istream& in){\n",
    "    in >> n >> midterm >> final;\n",
    "    return in;\n",
    "}\n",
    "std::istream& Core::read(std::istream& in){\n",
    "    read_common(in);\n",
    "    read_hw(in, homework);\n",
    "    return in;\n",
    "}"
   ]
  },
  {
   "cell_type": "code",
   "execution_count": 4,
   "metadata": {},
   "outputs": [
    {
     "data": {
      "text/plain": []
     },
     "execution_count": 4,
     "metadata": {},
     "output_type": "execute_result"
    }
   ],
   "source": [
    "class Grad : public Core {\n",
    "public:\n",
    "    Grad();\n",
    "    Grad(std::istream&);\n",
    "    double grade() const;\n",
    "    std::istream& read(std::istream&);\n",
    "private:\n",
    "    double thesis;\n",
    "};\n",
    "\n",
    "std::istream& Grad::read(std::istream& in)\n",
    "{\n",
    "    read_common(in);\n",
    "    in >> thesis;\n",
    "    read_hw(in, Core::homework);  //being explicit that this is in the base class(I think this is good fight me)\n",
    "    return in;\n",
    "}\n",
    "\n",
    "\n",
    "//remember std::min is in <algorithm>\n",
    "double Grad::grade() const{\n",
    "    return std::min(Core::grade(), thesis);\n",
    "}  // recall, :: is scope operator. Putting together the dots lol\n",
    "// using the scope operator is __essential__ here,\n",
    "// because we would have been recursively calling ourselves with the default behavior\n"
   ]
  },
  {
   "cell_type": "code",
   "execution_count": 5,
   "metadata": {},
   "outputs": [
    {
     "name": "stderr",
     "output_type": "stream",
     "text": [
      "Not using raw input\n"
     ]
    },
    {
     "data": {
      "text/plain": []
     },
     "execution_count": 5,
     "metadata": {},
     "output_type": "execute_result"
    }
   ],
   "source": [
    ".rawInput"
   ]
  },
  {
   "cell_type": "markdown",
   "metadata": {},
   "source": [
    "So we all know what protected is.\n",
    "```\n",
    "The use of public in public Core says that the fact that Grad inherits from Core is part of its\n",
    "interface, rather than part of its implementation.\n",
    "```\n",
    "\n",
    "### 13.1.3 Inheritance and Constructors\n",
    "\n",
    "Derived objects are constructed by:\n",
    "1. Allocating space for the entire object (base-class members as well as derived members)\n",
    "2. Calling the base-class constructor to initialize the base-class parts of the object\n",
    "3. Initializing the members of the derived class as directed by the constructor initializer\n",
    "4. Executing the body of the derived-class constructor, if any\n",
    "\n",
    "I'm guessing the destructor works in reverse"
   ]
  },
  {
   "cell_type": "markdown",
   "metadata": {},
   "source": [
    "## 13.2 Polymorphism and virtual functions\n",
    "\n",
    "We still need to add a compare feature to Core to recreate Student_info's functionality.\n"
   ]
  },
  {
   "cell_type": "code",
   "execution_count": 6,
   "metadata": {},
   "outputs": [
    {
     "data": {
      "text/plain": []
     },
     "execution_count": 6,
     "metadata": {},
     "output_type": "execute_result"
    }
   ],
   "source": [
    "bool compare(const Core& c1, const Core& c2){\n",
    "    return c1.name() < c2.name();\n",
    "}\n",
    "\n",
    "//this can be used to compare both Core and Grad records b/c u kno inheritance\n",
    "\n"
   ]
  },
  {
   "cell_type": "markdown",
   "metadata": {},
   "source": [
    "```\n",
    "Because every Grad object has a Core part, we can bind compare 's reference parameters to the\n",
    "Core portions of Grad objects, exactly as we can bind them to plain Core objects. Similarly, we\n",
    "could have defined compare to operate on pointers to Core or on objects of type Core (as opposed\n",
    "to a reference to Core ). In either case, we could still call the function on behalf of a Grad object. If\n",
    "the function took pointers, we could pass a pointer to Grad . The compiler would convert the Grad*\n",
    "to a Core* , and would bind the pointer to the Core part of the Grad object. If the function took a\n",
    "Core object, then what would be passed is just the Core portion of the object. There can be striking\n",
    "differences in behavior, depending on whether we pass an object itself, or a reference or pointer to\n",
    "the object—as we shall now see.\n",
    "```\n",
    "\\-> compiler info here is most useful\n",
    "\n",
    "# TODO: Continue on page 328"
   ]
  },
  {
   "cell_type": "code",
   "execution_count": null,
   "metadata": {
    "collapsed": true
   },
   "outputs": [],
   "source": []
  }
 ],
 "metadata": {
  "kernelspec": {
   "display_name": "C++14",
   "language": "",
   "name": "cling-cpp14"
  },
  "language_info": {
   "codemirror_mode": "c++",
   "file_extension": ".c++",
   "mimetype": "text/x-c++src",
   "name": "c++"
  }
 },
 "nbformat": 4,
 "nbformat_minor": 2
}
