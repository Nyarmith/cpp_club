{
 "cells": [
  {
   "cell_type": "code",
   "execution_count": 1,
   "metadata": {},
   "outputs": [
    {
     "data": {
      "text/plain": []
     },
     "execution_count": 1,
     "metadata": {},
     "output_type": "execute_result"
    }
   ],
   "source": [
    "#include <iostream>\n",
    "#include <tuple>\n",
    "#include <vector>"
   ]
  },
  {
   "cell_type": "code",
   "execution_count": 2,
   "metadata": {},
   "outputs": [
    {
     "data": {
      "text/plain": []
     },
     "execution_count": 2,
     "metadata": {},
     "output_type": "execute_result"
    }
   ],
   "source": [
    "//base-case\n",
    "template <typename T>\n",
    "T adder(T v){\n",
    "  return v;\n",
    "}\n",
    "\n",
    "//general case\n",
    "template <typename T, typename... Args>\n",
    "T adder(T first, Args... args) {\n",
    "  return first + adder(args...);\n",
    "}\n",
    "\n",
    "\n",
    "template <typename T>\n",
    "int count(T v){\n",
    "  return 1;\n",
    "}\n",
    "template <typename T, typename... Args>\n",
    "int count(T first, Args... args){\n",
    "    return 1 + count(args...);\n",
    "}\n",
    "\n",
    "template <typename... Args>\n",
    "double average(Args... args){\n",
    "    return (float)(adder(args...)) / (float)(count(args...));\n",
    "}\n"
   ]
  },
  {
   "cell_type": "code",
   "execution_count": 3,
   "metadata": {},
   "outputs": [
    {
     "name": "stdout",
     "output_type": "stream",
     "text": [
      "void __cling_Un1Qu30(void *)\n",
      "2\n",
      "8\n",
      "3\n",
      "5\n"
     ]
    },
    {
     "data": {
      "text/plain": [
       "(std::basic_ostream<char, std::char_traits<char> >::__ostream_type &) @0x7fffadfbef40\n"
      ]
     },
     "execution_count": 3,
     "metadata": {},
     "output_type": "execute_result"
    }
   ],
   "source": [
    "std::cout << __PRETTY_FUNCTION__ << \"\\n\";\n",
    "std::cout << adder(2) << std::endl;\n",
    "std::cout << adder(2,2,4) << std::endl;\n",
    "std::cout << average(2,3,4) << std::endl;\n",
    "std::cout << average(3,5,7) << std::endl;"
   ]
  },
  {
   "cell_type": "code",
   "execution_count": 4,
   "metadata": {},
   "outputs": [
    {
     "name": "stdout",
     "output_type": "stream",
     "text": [
      "6"
     ]
    },
    {
     "data": {
      "text/plain": [
       "(std::basic_ostream<char, std::char_traits<char> >::__ostream_type &) @0x7fffadfbef40\n"
      ]
     },
     "execution_count": 4,
     "metadata": {},
     "output_type": "execute_result"
    }
   ],
   "source": [
    "//this is a pretty good alternative though\n",
    "int average(std::vector<int> a){\n",
    "  int sum=0;\n",
    "  for (auto x : a)\n",
    "    sum += x;\n",
    "  sum /= a.size();\n",
    "  return sum;\n",
    "}\n",
    "std::cout << average({4,5,6,7,8});"
   ]
  },
  {
   "cell_type": "code",
   "execution_count": null,
   "metadata": {},
   "outputs": [],
   "source": []
  }
 ],
 "metadata": {
  "kernelspec": {
   "display_name": "C++14",
   "language": "",
   "name": "cling-cpp14"
  },
  "language_info": {
   "codemirror_mode": "c++",
   "file_extension": ".c++",
   "mimetype": "text/x-c++src",
   "name": "c++"
  }
 },
 "nbformat": 4,
 "nbformat_minor": 2
}
