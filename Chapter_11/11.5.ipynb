{
 "cells": [
  {
   "cell_type": "markdown",
   "metadata": {},
   "source": [
    "## Problem 11.5\n",
    "\n",
    "Instrument the Student_info class to count how often objects are created, copied, assigned, and destroyed. Use this instrumented class to execute the student record programs from Chapter 6. Using the instrumented `Student_info` class will let you see how many copies the library algorithms are doing. Comparing thej number of copies will let use estimate what proportion of the cost differences we saw are accounted for by the use of each library class. Do this instrumentationa nd analysis."
   ]
  },
  {
   "cell_type": "code",
   "execution_count": 1,
   "metadata": {},
   "outputs": [
    {
     "data": {
      "text/plain": []
     },
     "execution_count": 1,
     "metadata": {},
     "output_type": "execute_result"
    }
   ],
   "source": [
    "#include <iostream>\n",
    "#include <vector>"
   ]
  },
  {
   "cell_type": "code",
   "execution_count": 2,
   "metadata": {},
   "outputs": [
    {
     "name": "stderr",
     "output_type": "stream",
     "text": [
      "Using raw input\n"
     ]
    },
    {
     "data": {
      "text/plain": []
     },
     "execution_count": 2,
     "metadata": {},
     "output_type": "execute_result"
    }
   ],
   "source": [
    ".rawInput"
   ]
  },
  {
   "cell_type": "code",
   "execution_count": 3,
   "metadata": {},
   "outputs": [
    {
     "data": {
      "text/plain": []
     },
     "execution_count": 3,
     "metadata": {},
     "output_type": "execute_result"
    }
   ],
   "source": [
    "using namespace std;\n",
    "\n",
    "class Student_info {\n",
    "public:\n",
    "    Student_info();              // construct an empty `Student_info' object\n",
    "    Student_info(std::istream&); // construct one by reading a stream\n",
    "    std::string name() const { return n; }\n",
    "  \n",
    "    // as defined in 9.2.1/157, and changed to read into `n' instead of `name'\n",
    "    std::istream& read(std::istream&);\n",
    "  \n",
    "    bool passing() const;\n",
    "    static int instances_;\n",
    "  \n",
    "private:\n",
    "    std::string n;\n",
    "    double midterm, final;\n",
    "};\n",
    "\n",
    "Student_info::Student_info(): midterm(0), final(0) { instances_++;}\n",
    "\n",
    "Student_info::Student_info(istream& is) { read(is); instances_++;}\n",
    "\n",
    "istream& Student_info::read(istream& in) {\n",
    "    in >> n >> midterm >> final;\n",
    "    return in;\n",
    "}\n",
    "\n",
    "bool Student_info::passing() const {\n",
    "    return ((midterm + final) / 2) > 60.0;\n",
    "}\n",
    "\n",
    "bool compare(const Student_info& x, const Student_info& y) {\n",
    "    return x.name() < y.name();\n",
    "}"
   ]
  },
  {
   "cell_type": "code",
   "execution_count": 4,
   "metadata": {},
   "outputs": [
    {
     "name": "stderr",
     "output_type": "stream",
     "text": [
      "Not using raw input\n"
     ]
    },
    {
     "data": {
      "text/plain": []
     },
     "execution_count": 4,
     "metadata": {},
     "output_type": "execute_result"
    }
   ],
   "source": [
    ".rawInput"
   ]
  },
  {
   "cell_type": "code",
   "execution_count": null,
   "metadata": {
    "collapsed": true
   },
   "outputs": [],
   "source": []
  }
 ],
 "metadata": {
  "kernelspec": {
   "display_name": "C++14",
   "language": "",
   "name": "cling-cpp14"
  },
  "language_info": {
   "codemirror_mode": "c++",
   "file_extension": ".c++",
   "mimetype": "text/x-c++src",
   "name": "c++"
  }
 },
 "nbformat": 4,
 "nbformat_minor": 2
}
