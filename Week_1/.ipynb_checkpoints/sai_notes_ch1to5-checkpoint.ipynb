{
 "cells": [
  {
   "cell_type": "markdown",
   "metadata": {},
   "source": [
    "# Intro Notes\n",
    "#### This Document Contains Scattered Notes from Chapters 0-5\n",
    "###### It's mostly for filling in blanks because Computer Science graduates should probably know most of it\n",
    "\n",
    "I'm using the C++14 kernel with cling\n"
   ]
  },
  {
   "cell_type": "code",
   "execution_count": 1,
   "metadata": {},
   "outputs": [
    {
     "data": {
      "text/plain": []
     },
     "execution_count": 1,
     "metadata": {},
     "output_type": "execute_result"
    }
   ],
   "source": [
    "//since this entire notebook environment is shared, I'm just putting all the headers here\n",
    "#include <iostream>\n",
    "#include <string>\n",
    "#include <vector>\n",
    "#include <deque>\n",
    "#include <list>\n",
    "#include <ios>        //std::streamsize\n",
    "#include <iomanip>    //std::setprecision\n",
    "#include <algorithm>  //std::sort, std::max"
   ]
  },
  {
   "cell_type": "markdown",
   "metadata": {},
   "source": [
    "#### Main Points From Chapter 1\n",
    "Terminology I didn't know\n",
    "* an *object* is a part of the computer's memory that has a type (is this like a common term for it?)\n",
    "* a *variable* is an object that has a name\n",
    "* things like std::endl are called *manipulators*\n",
    "\n",
    "std::string has a constructor that creates n copies of a character, pretty useful!"
   ]
  },
  {
   "cell_type": "code",
   "execution_count": 2,
   "metadata": {},
   "outputs": [
    {
     "name": "stdout",
     "output_type": "stream",
     "text": [
      "aaaaaaaaaaaaaaaaaaaaaaa\n"
     ]
    },
    {
     "data": {
      "text/plain": [
       "(std::basic_ostream<char, std::char_traits<char> >::__ostream_type &) @0x7f96d09fdf40\n"
      ]
     },
     "execution_count": 2,
     "metadata": {},
     "output_type": "execute_result"
    }
   ],
   "source": [
    "//example of the string constuctor thing\n",
    "int  n=23;\n",
    "char c='a';\n",
    "std::string a_shout(n, c);\n",
    "std::cout << a_shout << std::endl;"
   ]
  },
  {
   "cell_type": "markdown",
   "metadata": {},
   "source": [
    "#### Main Points From Chapter 2\n",
    "* You should index and navigate a string using std::string::size_type, which is an unsigned type\n",
    "* x++ has higher precedence than ++x (I thought it was the other way around)\n",
    "* % has the same precedence as * and / (I thought it was lower)\n",
    "* << has higher precedence than <, >, >=. <= (this was again a shock)\n",
    "* == and != have higher precedence than the && operation\n",
    "\n",
    "yeah that's it"
   ]
  },
  {
   "cell_type": "code",
   "execution_count": 3,
   "metadata": {},
   "outputs": [
    {
     "name": "stdout",
     "output_type": "stream",
     "text": [
      "23\n",
      "18446744073709551593\n",
      "18446744073709551570\n",
      "46\n"
     ]
    },
    {
     "data": {
      "text/plain": [
       "(std::basic_ostream<char, std::char_traits<char> >::__ostream_type &) @0x7f96d09fdf40\n"
      ]
     },
     "execution_count": 3,
     "metadata": {},
     "output_type": "execute_result"
    }
   ],
   "source": [
    "std::string::size_type i = a_shout.size();\n",
    "std::cout << i << std::endl;\n",
    "std::cout << i*(-1) << std::endl;\n",
    "std::cout << i*(-2) << std::endl;\n",
    "std::cout << i*(2) << std::endl;\n"
   ]
  },
  {
   "cell_type": "markdown",
   "metadata": {},
   "source": [
    "#### Main Points From Chapter 3\n",
    "\n",
    "* I should use the &lt;algorithm&gt; library more\n",
    "\n",
    "###### Stream Stuff\n",
    "* &lt;iomanip&gt; is a thing, and it defines iostream manipulators like setprecision\n",
    "* &lt;ios&gt; header is a thing, and it defines more iostream information (it seems very non-specific), but it defines streamsize, which is the type taht the iostream library uses to represent sizes\n",
    "* A side-effect of std::cin is flushing the previous buffer\n",
    "* You can do while ( cin >> x ) to wait for end of input\n",
    "* cin has type istream\n",
    "\n",
    "###### Vector Stuff\n",
    "* Vectors are classified under stdlib *containers* (I kenw this but I never use the term container irl)\n",
    "* Vectors size-types also include their template types, which is sort of obvious if you think about it(by this I mean std::vector&lt;double&gt;::size_type c; is how you specify the size iterator type for vectors of doubles.\n",
    "* std::&lt;sort&gt; operates on iterators(I think, and all containers have iterators)"
   ]
  },
  {
   "cell_type": "code",
   "execution_count": 4,
   "metadata": {},
   "outputs": [
    {
     "data": {
      "text/plain": []
     },
     "execution_count": 4,
     "metadata": {},
     "output_type": "execute_result"
    }
   ],
   "source": [
    "//thing to print, it won't let me define it further down\n",
    "//man what is the difference between template <class T> and template <typename T> and so forth?\n",
    "template <class T>\n",
    "void printVec(const std::vector<T>& in){\n",
    "    std::vector<double>::size_type i=0;\n",
    "    while (i < in.size()){\n",
    "        std::cout << in[i] << std::endl;\n",
    "        ++i;\n",
    "    }\n",
    "}"
   ]
  },
  {
   "cell_type": "code",
   "execution_count": 5,
   "metadata": {},
   "outputs": [
    {
     "name": "stdout",
     "output_type": "stream",
     "text": [
      "Wow look at this floating pt number: 2.35\n",
      " now... look at it again! : 2.34568\n",
      "Before sorting\n",
      "2.34568\n",
      "0.12345\n",
      "-34.534\n",
      "After sorting\n",
      "-34.534\n",
      "0.12345\n",
      "2.34568\n"
     ]
    },
    {
     "data": {
      "text/plain": [
       "(void) @0x7f96be7fad08\n"
      ]
     },
     "execution_count": 5,
     "metadata": {},
     "output_type": "execute_result"
    }
   ],
   "source": [
    "//precision stuff\n",
    "double some_num = 2.3456789123;\n",
    "std::streamsize prec = std::cout.precision();\n",
    "std::cout << \"Wow look at this floating pt number: \" << std::setprecision(3)\n",
    "          << some_num << std::setprecision(prec) << \"\\n now... look at it again! : \"\n",
    "          << some_num << std::endl;\n",
    "          \n",
    "//vector stuff\n",
    "std::vector<double> some_nums;\n",
    "some_nums.push_back(some_num);\n",
    "some_nums.push_back(0.12345);\n",
    "some_nums.push_back(-34.534);\n",
    "\n",
    "\n",
    "std::cout << \"Before sorting\\n\";\n",
    "printVec(some_nums);\n",
    "std::sort(some_nums.begin(), some_nums.end());\n",
    "std::cout << \"After sorting\\n\";\n",
    "printVec(some_nums);"
   ]
  },
  {
   "cell_type": "markdown",
   "metadata": {
    "collapsed": true
   },
   "source": [
    "#### Main Points From Chapter 4\n",
    "\n",
    "* std::vector::clear() is a method that removes all elements from a vector(they are destroyed), vector capacity is not guaranteed to change from calling (can use .swap() for that purpose)\n",
    "* You can pass cin(or any input stream) to a method (this was always clear but it seems more useful now)\n",
    "* You can't pass an rvalue into a parameter that's of the const refrence type(because it wouldn't be referring to a varaible)\n",
    "* You can make your own comparison function for your types so that sort() can work with them\n",
    "\n",
    "The author starts using classes and structs in this chapter"
   ]
  },
  {
   "cell_type": "code",
   "execution_count": 6,
   "metadata": {},
   "outputs": [
    {
     "data": {
      "text/plain": []
     },
     "execution_count": 6,
     "metadata": {},
     "output_type": "execute_result"
    }
   ],
   "source": [
    "//it was complaining when Student class def and compareStudents were both at the top\n",
    "class Student{\n",
    "    public:\n",
    "        Student(){grade1 = grade2 = grade3 = 0; name=\"\";}\n",
    "        //this constructor is valid, but I wonder if the naming is in poor style\n",
    "        Student(double grade1, double grade2, double grade3, std::string name) :\n",
    "                grade1(grade1), grade2(grade2), grade3(grade3), name(name) {}\n",
    "        double getAverage() const{ return (grade1 + grade2 + grade3) / 3; }\n",
    "        //copy constructor\n",
    "        Student(const Student &o){ grade1 = o.grade1; grade2=o.grade2; grade3=o.grade3; name=o.name;}\n",
    "        std::string toString() const { return name + \" : \" + std::to_string(getAverage()); }\n",
    "    private:\n",
    "        //Students are nothing but their grades\n",
    "        double grade1;\n",
    "        double grade2;\n",
    "        double grade3;\n",
    "        std::string name;\n",
    "};\n"
   ]
  },
  {
   "cell_type": "markdown",
   "metadata": {},
   "source": [
    "Defining a function to print our object to cout, and another to perform a comparison operation"
   ]
  },
  {
   "cell_type": "code",
   "execution_count": 7,
   "metadata": {},
   "outputs": [
    {
     "name": "stderr",
     "output_type": "stream",
     "text": [
      "Using raw input\n"
     ]
    },
    {
     "data": {
      "text/plain": []
     },
     "execution_count": 7,
     "metadata": {},
     "output_type": "execute_result"
    }
   ],
   "source": [
    ".rawInput"
   ]
  },
  {
   "cell_type": "code",
   "execution_count": 8,
   "metadata": {},
   "outputs": [
    {
     "name": "stderr",
     "output_type": "stream",
     "text": [
      "\u001b[1minput_line_14:8:5: \u001b[0m\u001b[0;1;31merror: \u001b[0m\u001b[1mredefinition of 'i' with a different type: 'int' vs 'std::string::size_type' (aka 'unsigned long')\u001b[0m\n",
      "int i=0;\n",
      "\u001b[0;1;32m    ^\n",
      "\u001b[0m\u001b[1minput_line_8:2:25: \u001b[0m\u001b[0;1;30mnote: \u001b[0mprevious definition is here\u001b[0m\n",
      " std::string::size_type i = a_shout.size();\n",
      "\u001b[0;1;32m                        ^\n",
      "\u001b[0m\u001b[1minput_line_14:9:6: \u001b[0m\u001b[0;1;31merror: \u001b[0m\u001b[1mno type named 'cout' in namespace 'std'\u001b[0m\n",
      "std::cout << \"this block is running?\" << std::endl;\n",
      "\u001b[0;1;32m~~~~~^\n",
      "\u001b[0m\u001b[1minput_line_14:9:11: \u001b[0m\u001b[0;1;31merror: \u001b[0m\u001b[1mexpected unqualified-id\u001b[0m\n",
      "std::cout << \"this block is running?\" << std::endl;\n",
      "\u001b[0;1;32m          ^\n",
      "\u001b[0m"
     ]
    },
    {
     "ename": "ename",
     "evalue": "evalue",
     "output_type": "error",
     "traceback": []
    }
   ],
   "source": [
    "\n",
    "//Not working, likely because we're overloading the << operator, which we've already used\n",
    "\n",
    "std::ostream & operator<<(std::ostream &os, Student const &m){\n",
    "    return os << m.toString() << std::endl;\n",
    "}\n",
    "\n",
    "std::cout << \"this block is running?\" << std::endl;\n",
    "\n",
    "void printBoiz(const std::vector<Student> &bois){\n",
    "    std::vector<Student>::size_type i=0;\n",
    "    while (i < bois.size()){\n",
    "        std::cout << bois[i].toString() << std::endl;\n",
    "        ++i;\n",
    "    }\n",
    "}"
   ]
  },
  {
   "cell_type": "code",
   "execution_count": null,
   "metadata": {
    "collapsed": true
   },
   "outputs": [],
   "source": [
    ".rawInput"
   ]
  },
  {
   "cell_type": "code",
   "execution_count": null,
   "metadata": {},
   "outputs": [],
   "source": [
    "bool compareStudents(const Student& a, const Student& b){\n",
    "    return (a.getAverage() < b.getAverage());\n",
    "}\n",
    "\n",
    "Student Sergey(123, 234, 345, \"Sergey\");\n",
    "Student Will(20, 40, 60, \"Will\");\n",
    "Student Chris(420, 420, 420, \"Chris\");\n",
    "\n",
    "std::vector<Student> boyz;\n",
    "boyz.push_back(Sergey); boyz.push_back(Will); boyz.push_back(Chris);\n",
    "std::cout << \"Before Sorting\\n\";\n",
    "printBoiz(boyz);\n",
    "std::sort(boyz.begin(), boyz.end(), compareStudents);\n",
    "std::cout << \"After Sorting\\n\";\n",
    "printBoiz(boyz);\n",
    "\n",
    "std::cout << std::max(7, 5) << std::endl;\n"
   ]
  },
  {
   "cell_type": "markdown",
   "metadata": {},
   "source": [
    "#### Main Points From Chapter 5\n",
    "\n",
    "* erase is linear time on vectors, also erase only works on iterators, not indices\n",
    "* not all containers support indices\n",
    "* you shouldn't try saving iterators, because they usually get easily invalidated\n",
    "* there are const_iterator and iterator types for every containers. const_iterator don't let you modify the contents\n",
    "* lists have their own .sort() method\n",
    "* lists are only good after like 7k elements and with a lot of deletion of indices in the middle\n",
    "* container::insert() is a useful method for concatenating containers, it uses iterators like\n",
    "  * myVec.insert(myVec.end(), otherVec.begin(), otherVec.end())\n",
    "* you can do container.erase(a,b) to erase the range of elements [a,b) where those are iterators\n",
    "  * both normal and this range-erase return an iterator to the next element\n"
   ]
  },
  {
   "cell_type": "code",
   "execution_count": null,
   "metadata": {},
   "outputs": [],
   "source": [
    "//std::vector<Student> copyBoyz = boyz;  //idk why this isn't working, chris pls\n",
    "std::vector<Student> copyBoyz;\n",
    "copyBoyz = boyz;\n",
    "std::cout << \"Inserting copyBoyz to boyz\\n\";\n",
    "boyz.insert(boyz.end(), copyBoyz.begin(), copyBoyz.end());\n",
    "printBoiz(boyz);\n",
    "std::cout << \"Erasing w/ 2nd iterator only\\n\";\n",
    "boyz.erase(boyz.begin() + 1);\n",
    "printBoiz(boyz);\n",
    "std::cout << \"Erasing w/ 2nd and 2nd-to-last iterators\\n\";\n",
    "boyz.erase(boyz.begin() + 1, boyz.end() - 1);\n",
    "printBoiz(boyz);"
   ]
  },
  {
   "cell_type": "markdown",
   "metadata": {},
   "source": [
    "**\"Abstraction is selective ignorance\"**"
   ]
  }
 ],
 "metadata": {
  "kernelspec": {
   "display_name": "C++14",
   "language": "",
   "name": "cling-cpp14"
  },
  "language_info": {
   "codemirror_mode": "c++",
   "file_extension": ".c++",
   "mimetype": "text/x-c++src",
   "name": "c++"
  }
 },
 "nbformat": 4,
 "nbformat_minor": 2
}
