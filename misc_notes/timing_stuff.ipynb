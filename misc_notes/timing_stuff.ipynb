{
 "cells": [
  {
   "cell_type": "code",
   "execution_count": 1,
   "metadata": {},
   "outputs": [
    {
     "data": {
      "text/plain": []
     },
     "execution_count": 1,
     "metadata": {},
     "output_type": "execute_result"
    }
   ],
   "source": [
    "#include <iostream>\n",
    "#include <vector>\n",
    "#include <string>\n",
    "#include <algorithm>\n",
    "#include <list>\n",
    "#include <cstdlib>\n",
    "#include <ctime>   //method 1\n",
    "#include <chrono>  //method 2\n"
   ]
  },
  {
   "cell_type": "code",
   "execution_count": 2,
   "metadata": {},
   "outputs": [
    {
     "data": {
      "text/plain": []
     },
     "execution_count": 2,
     "metadata": {},
     "output_type": "execute_result"
    }
   ],
   "source": [
    "const int SAMPSIZE = 1000000;\n",
    "//for this experiment we'll use timers to comare operations done on std::vector and std::list\n",
    "std::vector<int> sample;\n",
    "for (int i=0; i < SAMPSIZE; i++){\n",
    "    sample.push_back( rand() % 0x8FFFFFFF );\n",
    "}\n",
    ";"
   ]
  },
  {
   "cell_type": "markdown",
   "metadata": {},
   "source": [
    "2 types of times:\n",
    "- system time\n",
    "- real time\n",
    "\n",
    "* clock() measures CPU time, not wall-clock time\n",
    "* ANSI C has a time() which gives 1 second resolution\n",
    "* if you have POSIX compliance, you can use clock_gettime(), with param CLOCK_MONOTONIC and then get elapsed time in \n",
    "    * this gives you a struct which holds both seconds and nanoseconds\n",
    "\n",
    "https://linux.die.net/man/3/clock_gettime\n",
    "\n"
   ]
  },
  {
   "cell_type": "code",
   "execution_count": 3,
   "metadata": {},
   "outputs": [
    {
     "name": "stderr",
     "output_type": "stream",
     "text": [
      "Using raw input\n"
     ]
    },
    {
     "data": {
      "text/plain": []
     },
     "execution_count": 3,
     "metadata": {},
     "output_type": "execute_result"
    }
   ],
   "source": [
    ".rawInput"
   ]
  },
  {
   "cell_type": "code",
   "execution_count": 4,
   "metadata": {},
   "outputs": [
    {
     "name": "stderr",
     "output_type": "stream",
     "text": [
      "\u001b[1minput_line_5:2:1: \u001b[0m\u001b[0;1;31merror: \u001b[0m\u001b[1mexpected unqualified-id\u001b[0m\n",
      "{\n",
      "\u001b[0;1;32m^\n",
      "\u001b[0m"
     ]
    },
    {
     "ename": "ename",
     "evalue": "evalue",
     "output_type": "error",
     "traceback": []
    }
   ],
   "source": [
    "//why doesn't any of this work lol\n",
    "{\n",
    "//copies to test on\n",
    "std::vector<int> cpy = sample;\n",
    "\n",
    "//std::clock_t start;\n",
    "double duration;\n",
    "std::clock_t start = std::clock();\n",
    "\n",
    "std::sort(cpy.begin(), cpy.end());\n",
    "\n",
    "std::clock_t end = std::clock();\n",
    "\n",
    "duration = (end - start) / (double) CLOCKS_PER_SEC;\n",
    "\n",
    "std::cout << \"Time to sort vector : \" << duration << \"\\n\";\n",
    "\n",
    "std::list<int> cpy2(sample.begin(), sample.end());\n",
    "\n",
    "start = std::clock();\n",
    "cpy2.sort();\n",
    "end = std::clock();\n",
    "duration = (end - start) / (double) CLOCKS_PER_SEC;\n",
    "std::cout << \"Time to sort list : \" << duration << \"\\n\";\n",
    "}"
   ]
  },
  {
   "cell_type": "code",
   "execution_count": null,
   "metadata": {},
   "outputs": [],
   "source": [
    ".rawInput"
   ]
  },
  {
   "cell_type": "markdown",
   "metadata": {},
   "source": [
    "You can combine this with a tracer style struct-define-block to add timing macros I guess"
   ]
  },
  {
   "cell_type": "code",
   "execution_count": null,
   "metadata": {},
   "outputs": [],
   "source": [
    "//templated ctime thing\n",
    "template <class Func, class Arg>\n",
    "double measure_duration()"
   ]
  },
  {
   "cell_type": "markdown",
   "metadata": {},
   "source": [
    "The *chrono* header provides:\n",
    "\n",
    "* system_clock - real-time system clock\n",
    "* high_resolution_clock - real-time clock with the shortest tick period possible on the current system;\n",
    "* steady_clock - this is a monotonic clock that is guaranteed to never be adjusted"
   ]
  },
  {
   "cell_type": "code",
   "execution_count": null,
   "metadata": {},
   "outputs": [],
   "source": []
  },
  {
   "cell_type": "code",
   "execution_count": null,
   "metadata": {},
   "outputs": [],
   "source": [
    "std::vector<int> a_cpy = sample;\n",
    "{\n",
    "//time vector sort\n",
    "std::clock_t c_start = std::clock();\n",
    "auto t_start = std::chrono::high_resolution_clock::now();\n",
    "\n",
    "std::sort(cpy.begin(), cpy.end());\n",
    "\n",
    "std::clock_t c_end = std::clock();\n",
    "auto t_end = std::chrono::high_resolution_clock::now();\n",
    "    \n",
    "    \n",
    "        std::cout << std::fixed << std::setprecision(2) << \"Vector : CPU time used: \"\n",
    "              << 1000.0 * (c_end-c_start) / CLOCKS_PER_SEC << \" ms\\n\"\n",
    "              << \"Wall clock time passed: \"\n",
    "              << std::chrono::duration<double, std::milli>(t_end-t_start).count()\n",
    "              << \" ms\\n\";\n",
    "}\n",
    "\n",
    "{\n",
    "//time list sort\n",
    "std::clock_t c_start = std::clock();\n",
    "auto t_start = std::chrono::high_resolution_clock::now();\n",
    "\n",
    "std::sort(cpy.begin(), cpy.end());\n",
    "\n",
    "std::clock_t c_end = std::clock();\n",
    "auto t_end = std::chrono::high_resolution_clock::now();\n",
    "    \n",
    "        std::cout << std::fixed << std::setprecision(2) << \"List : CPU time used: \"\n",
    "              << 1000.0 * (c_end-c_start) / CLOCKS_PER_SEC << \" ms\\n\"\n",
    "              << \"Wall clock time passed: \"\n",
    "              << std::chrono::duration<double, std::milli>(t_end-t_start).count()\n",
    "              << \" ms\\n\";\n",
    "}"
   ]
  },
  {
   "cell_type": "code",
   "execution_count": null,
   "metadata": {},
   "outputs": [],
   "source": [
    "template<typename TimeT = std::chrono::milliseconds>\n",
    "struct measure\n",
    "{\n",
    "    template<typename F, typename ...Args>\n",
    "    static typename TimeT::rep execution(F&& func, Args&&... args)\n",
    "    {\n",
    "        auto start = std::chrono::steady_clock::now();\n",
    "        std::forward<decltype(func)>(func)(std::forward<Args>(args)...);\n",
    "        auto duration = std::chrono::duration_cast< TimeT> \n",
    "                            (std::chrono::steady_clock::now() - start);\n",
    "        return duration.count();\n",
    "    }\n",
    "};"
   ]
  },
  {
   "cell_type": "markdown",
   "metadata": {},
   "source": []
  },
  {
   "cell_type": "code",
   "execution_count": null,
   "metadata": {},
   "outputs": [],
   "source": []
  }
 ],
 "metadata": {
  "kernelspec": {
   "display_name": "C++14",
   "language": "",
   "name": "cling-cpp14"
  },
  "language_info": {
   "codemirror_mode": "c++",
   "file_extension": ".c++",
   "mimetype": "text/x-c++src",
   "name": "c++"
  }
 },
 "nbformat": 4,
 "nbformat_minor": 2
}
