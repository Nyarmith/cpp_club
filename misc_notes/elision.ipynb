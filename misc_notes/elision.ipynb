{
 "cells": [
  {
   "cell_type": "markdown",
   "metadata": {},
   "source": [
    "When certain criteria are met, an implementation[of c++] is allowed to omit the copy/move construction of a class, even if the copy/move constructor and/or destructor for the object have side effects. In such cases, the implementation `treats the source and target of the omitted copy/move operation as simply two different ways of referencing the same object`,, and the destruction of that object occurs at the later of the times when the two objects would have been destroyed without the optimization.\n",
    "\n",
    "This elision of copy/move operations, called copy elision, is permitted in the following circumstances (which may be combined to eliminate multiple copies)"
   ]
  },
  {
   "cell_type": "code",
   "execution_count": 1,
   "metadata": {},
   "outputs": [
    {
     "data": {
      "text/plain": []
     },
     "execution_count": 1,
     "metadata": {},
     "output_type": "execute_result"
    }
   ],
   "source": [
    "#include <iostream>"
   ]
  },
  {
   "cell_type": "code",
   "execution_count": 2,
   "metadata": {},
   "outputs": [
    {
     "data": {
      "text/plain": []
     },
     "execution_count": 2,
     "metadata": {},
     "output_type": "execute_result"
    }
   ],
   "source": [
    "class Thing{\n",
    "public:\n",
    "  Thing()=default;\n",
    "  ~Thing()=default;\n",
    "  Thing(const Thing&)=default;\n",
    "};"
   ]
  },
  {
   "cell_type": "code",
   "execution_count": 3,
   "metadata": {},
   "outputs": [
    {
     "data": {
      "text/plain": []
     },
     "execution_count": 3,
     "metadata": {},
     "output_type": "execute_result"
    }
   ],
   "source": [
    "//this specific example is called \"named return value optimization\"\n",
    "\n",
    "Thing f() {\n",
    "  Thing t;\n",
    "  return t;\n",
    "}\n",
    "\n",
    "\n",
    "//elision happens here\n",
    "Thing t2 = f();\n",
    "\n",
    "//elision combines the creation of Thing f() in the local scope and the assigned thing t2(),\n",
    "//so we don't need to run a copy constructor from the Thing t created in f to t2, but instead just empty-initialize t2"
   ]
  },
  {
   "cell_type": "code",
   "execution_count": 4,
   "metadata": {},
   "outputs": [
    {
     "data": {
      "text/plain": []
     },
     "execution_count": 4,
     "metadata": {},
     "output_type": "execute_result"
    }
   ],
   "source": [
    "//Regular return value optimization occurs when a temporary is returned(no idea though whats happening)\n",
    "Thing f2() {\n",
    "  return Thing();\n",
    "}\n",
    "\n",
    "Thing t3 = f2();\n",
    "\n"
   ]
  },
  {
   "cell_type": "code",
   "execution_count": null,
   "metadata": {
    "collapsed": true
   },
   "outputs": [],
   "source": [
    "//elision also takes place when a temporary is passed by value\n",
    "\n",
    "void foo(Thing t){  //doesn't really matter what's in here\n",
    "    return t;\n",
    "}\n",
    "\n",
    "foo(Thing());"
   ]
  },
  {
   "cell_type": "markdown",
   "metadata": {},
   "source": [
    "In summary it seems to factor out temporary objects"
   ]
  }
 ],
 "metadata": {
  "kernelspec": {
   "display_name": "C++14",
   "language": "",
   "name": "cling-cpp14"
  },
  "language_info": {
   "codemirror_mode": "c++",
   "file_extension": ".c++",
   "mimetype": "text/x-c++src",
   "name": "c++"
  }
 },
 "nbformat": 4,
 "nbformat_minor": 2
}
