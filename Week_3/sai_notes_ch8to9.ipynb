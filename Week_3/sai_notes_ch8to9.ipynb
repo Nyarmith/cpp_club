{
 "cells": [
  {
   "cell_type": "markdown",
   "metadata": {},
   "source": [
    "## Chapter 8 Notes\n"
   ]
  },
  {
   "cell_type": "code",
   "execution_count": 1,
   "metadata": {},
   "outputs": [
    {
     "data": {
      "text/plain": []
     },
     "execution_count": 1,
     "metadata": {},
     "output_type": "execute_result"
    }
   ],
   "source": [
    "#include <iostream>\n",
    "#include <string>\n",
    "#include <utility>\n",
    "#include <vector>\n",
    "#include <algorithm>\n",
    "#include <list>"
   ]
  },
  {
   "cell_type": "markdown",
   "metadata": {},
   "source": [
    "#### Chapter 8 : Generic Functions\n",
    "* well this isn't exactly new\n",
    "* not all algorithms require all iterator operations\n",
    "* there are five iterator categories, each of which corresponds to a specifric collection of iterator operations\n",
    "  * input iterator: Sequential Read-Only Access\n",
    "  * output iterator : Sequential Write-Only Access\n",
    "  * forward iterator : Sequential Read-Write Access\n",
    "  * bidirectional iterator : Iterators that go backwards and forwards\n",
    "  * random access iterator : Jump around anywhere. The ideal iterator\n",
    "* main reason we have an end iterator that is off-by-one is to have a simpler test for empty range(i.e. == and != instead of having to traverse)\n",
    "* not all iterators are associated with containers\n",
    "  * \"output\" iterators only need a \n",
    "* stdlib provides iterators that can be bound to istreams and ostreams\n",
    "* for template functions, if the types of a template appear in an argument list, then you don't need to explicitly specify them in the (whatever <> is called), otherwise you do.\n"
   ]
  },
  {
   "cell_type": "code",
   "execution_count": 2,
   "metadata": {},
   "outputs": [
    {
     "data": {
      "text/plain": []
     },
     "execution_count": 2,
     "metadata": {},
     "output_type": "execute_result"
    }
   ],
   "source": [
    "template <class T>\n",
    "T max(const T &left, const T &right)\n",
    "{\n",
    "    return left > right ? left : right;\n",
    "}"
   ]
  },
  {
   "cell_type": "code",
   "execution_count": 3,
   "metadata": {},
   "outputs": [
    {
     "data": {
      "text/plain": []
     },
     "execution_count": 3,
     "metadata": {},
     "output_type": "execute_result"
    }
   ],
   "source": [
    "class binsert{\n",
    "public:\n",
    "    int ayy;\n",
    "    void push_back(int i){ ayy=i; }\n",
    "}"
   ]
  },
  {
   "cell_type": "code",
   "execution_count": 4,
   "metadata": {},
   "outputs": [
    {
     "data": {
      "text/plain": []
     },
     "execution_count": 4,
     "metadata": {},
     "output_type": "execute_result"
    }
   ],
   "source": [
    "//ok this isn't working as I wanted it to\n",
    "\n",
    "std::string this_is_a_test = \"test\";"
   ]
  },
  {
   "cell_type": "code",
   "execution_count": 5,
   "metadata": {},
   "outputs": [
    {
     "data": {
      "text/plain": []
     },
     "execution_count": 5,
     "metadata": {},
     "output_type": "execute_result"
    }
   ],
   "source": [
    "#include <iterator>"
   ]
  },
  {
   "cell_type": "code",
   "execution_count": 6,
   "metadata": {},
   "outputs": [
    {
     "name": "stdout",
     "output_type": "stream",
     "text": [
      "3458"
     ]
    },
    {
     "data": {
      "text/plain": [
       "(std::ostream_iterator<int, char, std::char_traits<char> >) @0x7f0abd9fa140\n"
      ]
     },
     "execution_count": 6,
     "metadata": {},
     "output_type": "execute_result"
    }
   ],
   "source": [
    "\n",
    "//copying vector to stdout\n",
    "std::vector<int> vec{3,4,5,8};\n",
    "\n",
    "std::copy(vec.begin(), vec.end(), std::ostream_iterator<int>(std::cout))"
   ]
  },
  {
   "cell_type": "code",
   "execution_count": 7,
   "metadata": {},
   "outputs": [
    {
     "name": "stdout",
     "output_type": "stream",
     "text": [
      "3 4 5 8 3\n",
      "4\n",
      "5\n",
      "8\n"
     ]
    },
    {
     "data": {
      "text/plain": [
       "(std::ostream_iterator<int, char, std::char_traits<char> >) @0x7f0abd9f4fc0\n"
      ]
     },
     "execution_count": 7,
     "metadata": {},
     "output_type": "execute_result"
    }
   ],
   "source": [
    "std::copy(vec.begin(), vec.end(), std::ostream_iterator<int>(std::cout, \" \"));\n",
    "std::copy(vec.begin(), vec.end(), std::ostream_iterator<int>(std::cout, \"\\n\"));"
   ]
  },
  {
   "cell_type": "code",
   "execution_count": 8,
   "metadata": {},
   "outputs": [
    {
     "data": {
      "text/plain": []
     },
     "execution_count": 8,
     "metadata": {},
     "output_type": "execute_result"
    }
   ],
   "source": [
    "#include <cctype>"
   ]
  },
  {
   "cell_type": "code",
   "execution_count": 9,
   "metadata": {},
   "outputs": [
    {
     "name": "stderr",
     "output_type": "stream",
     "text": [
      "Using raw input\n"
     ]
    },
    {
     "data": {
      "text/plain": []
     },
     "execution_count": 9,
     "metadata": {},
     "output_type": "execute_result"
    }
   ],
   "source": [
    ".rawInput"
   ]
  },
  {
   "cell_type": "code",
   "execution_count": 10,
   "metadata": {},
   "outputs": [
    {
     "data": {
      "text/plain": []
     },
     "execution_count": 10,
     "metadata": {},
     "output_type": "execute_result"
    }
   ],
   "source": [
    "bool not_space(char c){\n",
    "    return (!isspace(c));\n",
    "}\n",
    "bool space(char c){\n",
    "    return (isspace(c));\n",
    "}"
   ]
  },
  {
   "cell_type": "code",
   "execution_count": 11,
   "metadata": {},
   "outputs": [
    {
     "name": "stderr",
     "output_type": "stream",
     "text": [
      "Not using raw input\n"
     ]
    },
    {
     "data": {
      "text/plain": []
     },
     "execution_count": 11,
     "metadata": {},
     "output_type": "execute_result"
    }
   ],
   "source": [
    ".rawInput"
   ]
  },
  {
   "cell_type": "code",
   "execution_count": 12,
   "metadata": {},
   "outputs": [
    {
     "data": {
      "text/plain": []
     },
     "execution_count": 12,
     "metadata": {},
     "output_type": "execute_result"
    }
   ],
   "source": [
    "template <class Out>\n",
    "void split(const std::string& str, Out os){\n",
    "    typedef std::string::const_iterator itr;\n",
    "    itr i = str.begin();\n",
    "    while ( i != str.end()) {\n",
    "        i = std::find_if(i, str.end(), not_space);\n",
    "        itr j = find_if(i, str.end(), space);\n",
    "        \n",
    "        if (i != str.end()){\n",
    "            *os++ = std::string(i,j);\n",
    "        }\n",
    "        i = j;\n",
    "    }\n",
    "}\n"
   ]
  },
  {
   "cell_type": "code",
   "execution_count": 13,
   "metadata": {},
   "outputs": [
    {
     "name": "stdout",
     "output_type": "stream",
     "text": [
      "haha\n",
      "nice\n",
      "prank\n",
      "bro\n",
      "🤝\n"
     ]
    },
    {
     "data": {
      "text/plain": [
       "(void) @0x7f0ada7fad08\n"
      ]
     },
     "execution_count": 13,
     "metadata": {},
     "output_type": "execute_result"
    }
   ],
   "source": [
    "std::string haha(\"haha nice prank bro 🤝\");\n",
    "split(haha, std::ostream_iterator<std::string>(std::cout, \"\\n\"));"
   ]
  },
  {
   "cell_type": "markdown",
   "metadata": {},
   "source": [
    "Chapter 8 Problems:\n",
    "\n",
    "8.1\n",
    "implement:\n",
    "1. equal(b,e,b2)\n",
    "2. find(b,e, t)\n",
    "3. copy(b, e, d)\n",
    "4. remove_copy_if(b, e, d, p)\n",
    "5. transform(b, e, d, f)\n",
    "6. accumulate(b, e, t)"
   ]
  },
  {
   "cell_type": "code",
   "execution_count": 14,
   "metadata": {},
   "outputs": [
    {
     "data": {
      "text/plain": []
     },
     "execution_count": 14,
     "metadata": {},
     "output_type": "execute_result"
    }
   ],
   "source": [
    "template <class A, class B>\n",
    "bool myEqual(A begin, A end, B other){\n",
    "    if (*begin != *other) return false;\n",
    "    while (begin != end && *++begin == *++other);\n",
    "    if (begin == end)\n",
    "        return true;\n",
    "    return false;\n",
    "}\n",
    "\n",
    "std::vector<int> a_vector {2,3,4,5,6};\n",
    "std::vector<int> a_nother {2,3,4,5,6};\n",
    "std::vector<int> a_mother {3,3,4,5,6};"
   ]
  },
  {
   "cell_type": "code",
   "execution_count": 15,
   "metadata": {},
   "outputs": [
    {
     "name": "stdout",
     "output_type": "stream",
     "text": [
      "1\n",
      "1\n",
      "0\n",
      "0\n"
     ]
    },
    {
     "data": {
      "text/plain": [
       "(std::basic_ostream<char, std::char_traits<char> >::__ostream_type &) @0x7f0aec95df40\n"
      ]
     },
     "execution_count": 15,
     "metadata": {},
     "output_type": "execute_result"
    }
   ],
   "source": [
    "std::cout << std::equal(a_vector.begin(), a_vector.end(), a_nother.begin()) << std::endl;\n",
    "std::cout << myEqual(a_vector.begin(), a_vector.end(), a_nother.begin()) << std::endl;\n",
    "\n",
    "std::cout << std::equal(a_vector.begin(), a_vector.end(), a_mother.begin()) << std::endl;\n",
    "std::cout << myEqual(a_vector.begin(), a_vector.end(), a_mother.begin()) << std::endl;"
   ]
  },
  {
   "cell_type": "code",
   "execution_count": 16,
   "metadata": {},
   "outputs": [
    {
     "data": {
      "text/plain": []
     },
     "execution_count": 16,
     "metadata": {},
     "output_type": "execute_result"
    }
   ],
   "source": [
    "template <class A, class T>\n",
    "A myFind(A begin, A end, T elem){\n",
    "    while (*begin != elem && begin != end) ++begin;\n",
    "    return begin;\n",
    "}\n"
   ]
  },
  {
   "cell_type": "code",
   "execution_count": 17,
   "metadata": {},
   "outputs": [
    {
     "name": "stdout",
     "output_type": "stream",
     "text": [
      "4\n",
      "4\n"
     ]
    },
    {
     "data": {
      "text/plain": [
       "(std::basic_ostream<char, std::char_traits<char> >::__ostream_type &) @0x7f0aec95df40\n"
      ]
     },
     "execution_count": 17,
     "metadata": {},
     "output_type": "execute_result"
    }
   ],
   "source": [
    "std::cout << *std::find(a_vector.begin(), a_vector.end(), 4) << std::endl;\n",
    "std::cout << *myFind(a_vector.begin(), a_vector.end(), 4) << std::endl;"
   ]
  },
  {
   "cell_type": "code",
   "execution_count": 18,
   "metadata": {},
   "outputs": [
    {
     "data": {
      "text/plain": []
     },
     "execution_count": 18,
     "metadata": {},
     "output_type": "execute_result"
    }
   ],
   "source": [
    "template <class A, class B>\n",
    "B myCopy(A begin, A end, B other){\n",
    "    \n",
    "    while (begin != end){ *other = *begin; ++begin; ++other;}\n",
    "    return other;\n",
    "}\n",
    "\n",
    "template <class A>\n",
    "void printCont(A begin, A end){\n",
    "    while (begin != end){ std::cout << *begin << \",  \"; ++begin; }\n",
    "}"
   ]
  },
  {
   "cell_type": "code",
   "execution_count": 19,
   "metadata": {},
   "outputs": [
    {
     "name": "stdout",
     "output_type": "stream",
     "text": [
      "2,  3,  4,  5,  6,  0,  0,  0,  0,  0,  0,  0,  0,  0,  0,  0,  0,  0,  0,  0,  0,  0,  0,  0,  0,  0,  0,  0,  0,  0,  0,  0,  0,  0,  0,  0,  0,  0,  0,  0,  0,  0,  "
     ]
    },
    {
     "data": {
      "text/plain": [
       "(void) @0x7f0ada7fad08\n"
      ]
     },
     "execution_count": 19,
     "metadata": {},
     "output_type": "execute_result"
    }
   ],
   "source": [
    "std::vector<int> copyboiz (42);\n",
    "myCopy(a_vector.begin(), a_vector.end(), copyboiz.begin());\n",
    "printCont(copyboiz.begin(), copyboiz.end());"
   ]
  },
  {
   "cell_type": "code",
   "execution_count": 20,
   "metadata": {},
   "outputs": [
    {
     "data": {
      "text/plain": []
     },
     "execution_count": 20,
     "metadata": {},
     "output_type": "execute_result"
    }
   ],
   "source": [
    "int myints[] = {1,2,3,4,5,6,7,8,9};"
   ]
  },
  {
   "cell_type": "code",
   "execution_count": 21,
   "metadata": {},
   "outputs": [
    {
     "data": {
      "text/plain": []
     },
     "execution_count": 21,
     "metadata": {},
     "output_type": "execute_result"
    }
   ],
   "source": [
    "bool isThirdy(int v) {return (v % 3 == 0);}"
   ]
  },
  {
   "cell_type": "code",
   "execution_count": 22,
   "metadata": {},
   "outputs": [
    {
     "data": {
      "text/plain": []
     },
     "execution_count": 22,
     "metadata": {},
     "output_type": "execute_result"
    }
   ],
   "source": [
    "//place a copy of the current element in the handed container *if* the condition is false, no actual removal from the original set(b/c copy, but removal of sets nonetheless)\n",
    "template <class A, class B, class C>\n",
    "B my_remove_copy_if(A begin, A end, B out, C condition){\n",
    "    while (begin != end){\n",
    "        if (! condition(*begin) ){\n",
    "            *out = *begin; ++out;\n",
    "        }\n",
    "        ++begin;\n",
    "    }\n",
    "    return out;\n",
    "}"
   ]
  },
  {
   "cell_type": "code",
   "execution_count": 23,
   "metadata": {},
   "outputs": [
    {
     "name": "stdout",
     "output_type": "stream",
     "text": [
      "1,  2,  4,  5,  7,  8,  0,  0,  0,  0,  "
     ]
    },
    {
     "data": {
      "text/plain": [
       "(void) @0x7f0ada7fad08\n"
      ]
     },
     "execution_count": 23,
     "metadata": {},
     "output_type": "execute_result"
    }
   ],
   "source": [
    "std::vector<int> outie(10);\n",
    "my_remove_copy_if(myints, myints+9, outie.begin(), isThirdy);\n",
    "printCont(outie.begin(), outie.end());"
   ]
  },
  {
   "cell_type": "code",
   "execution_count": 24,
   "metadata": {},
   "outputs": [
    {
     "name": "stderr",
     "output_type": "stream",
     "text": [
      "Using raw input\n"
     ]
    },
    {
     "data": {
      "text/plain": []
     },
     "execution_count": 24,
     "metadata": {},
     "output_type": "execute_result"
    }
   ],
   "source": [
    ".rawInput"
   ]
  },
  {
   "cell_type": "code",
   "execution_count": 25,
   "metadata": {},
   "outputs": [
    {
     "data": {
      "text/plain": []
     },
     "execution_count": 25,
     "metadata": {},
     "output_type": "execute_result"
    }
   ],
   "source": [
    "//transform takes in begin, end, otherbegin, function and applies that function \n",
    "template <class A, class B, class F>\n",
    "B myTransform(A begin, A end, B other, F operation){\n",
    "    while (begin != end){\n",
    "        *other = operation(*begin);\n",
    "        ++begin; ++other;\n",
    "    }\n",
    "    return other;\n",
    "}\n",
    "\n",
    "template <class A, class B, class F>\n",
    "B myTransform(A begin, A end, A other_begin, B other, F binaryop){\n",
    "    while (begin != end){\n",
    "        *other = binary_op(begin, other_begin);\n",
    "        ++begin; ++other_begin; ++other;\n",
    "    }\n",
    "}"
   ]
  },
  {
   "cell_type": "code",
   "execution_count": 26,
   "metadata": {},
   "outputs": [
    {
     "name": "stderr",
     "output_type": "stream",
     "text": [
      "Not using raw input\n"
     ]
    },
    {
     "data": {
      "text/plain": []
     },
     "execution_count": 26,
     "metadata": {},
     "output_type": "execute_result"
    }
   ],
   "source": [
    ".rawInput"
   ]
  },
  {
   "cell_type": "code",
   "execution_count": 27,
   "metadata": {},
   "outputs": [
    {
     "name": "stdout",
     "output_type": "stream",
     "text": [
      "2,  4,  8,  10,  14,  16,  0,  0,  0,  0,  "
     ]
    },
    {
     "data": {
      "text/plain": [
       "(void) @0x7f0ada7fad08\n"
      ]
     },
     "execution_count": 27,
     "metadata": {},
     "output_type": "execute_result"
    }
   ],
   "source": [
    "int doubleme(int a){ return 2*a; } //I wonder if I can use pass by reference in this\n",
    "\n",
    "std::vector<int> o(10);\n",
    "myTransform(outie.begin(), outie.end(), o.begin(), doubleme);\n",
    "printCont(o.begin(), o.end());\n",
    "\n",
    "//I should probably use more anonymous functions?"
   ]
  },
  {
   "cell_type": "code",
   "execution_count": 28,
   "metadata": {},
   "outputs": [
    {
     "data": {
      "text/plain": []
     },
     "execution_count": 28,
     "metadata": {},
     "output_type": "execute_result"
    }
   ],
   "source": [
    "template <class A, class T>\n",
    "T myAccumulate(A begin, A end, T e){\n",
    "    while ( begin != end ){\n",
    "        e += *begin;\n",
    "        ++begin;\n",
    "    }\n",
    "    return e;\n",
    "}\n",
    "\n",
    "template <class A, class T, class F>\n",
    "T myAccumulate(A begin, A end, T e, F binF){\n",
    "    while ( begin != end ){\n",
    "        e = binF(*begin, e);\n",
    "        ++begin;\n",
    "    }\n",
    "    return e;\n",
    "}"
   ]
  },
  {
   "cell_type": "code",
   "execution_count": 29,
   "metadata": {},
   "outputs": [
    {
     "data": {
      "text/plain": []
     },
     "execution_count": 29,
     "metadata": {},
     "output_type": "execute_result"
    }
   ],
   "source": [
    "#include <functional> //std::minus"
   ]
  },
  {
   "cell_type": "code",
   "execution_count": 30,
   "metadata": {},
   "outputs": [
    {
     "name": "stdout",
     "output_type": "stream",
     "text": [
      "45\n",
      "5\n"
     ]
    },
    {
     "data": {
      "text/plain": [
       "(std::basic_ostream<char, std::char_traits<char> >::__ostream_type &) @0x7f0aec95df40\n"
      ]
     },
     "execution_count": 30,
     "metadata": {},
     "output_type": "execute_result"
    }
   ],
   "source": [
    "std::cout << myAccumulate(myints, myints+9, 0) << std::endl;  //should be 9*10/2\n",
    "std::cout << myAccumulate(myints, myints+9, 0, std::minus<int>()) << std::endl;"
   ]
  },
  {
   "cell_type": "markdown",
   "metadata": {},
   "source": [
    "##### rest of problem 8-2\n",
    "7. search(b, e, b2, e2)\n",
    "8. find_if(b, e, p)\n",
    "9. remove_copy(b, e, d, t)\n",
    "10. remove(b, e, t)\n",
    "11. partition(b, e, p)"
   ]
  },
  {
   "cell_type": "code",
   "execution_count": 31,
   "metadata": {},
   "outputs": [
    {
     "data": {
      "text/plain": []
     },
     "execution_count": 31,
     "metadata": {},
     "output_type": "execute_result"
    }
   ],
   "source": [
    "//search range b,e for first occurrence of range b2 e2\n",
    "template <class A, class B>\n",
    "A search(A f1, A e1, B f2, B e2){\n",
    "    while (f1 != e1){\n",
    "        if (*f1 == *f2){\n",
    "        A t1 = f1; B t2 = f2;\n",
    "        while (*t1 == *t2){\n",
    "            if (t2 == e2) return t1;  //we've completed\n",
    "            if (t1 == e1) return e1;  //oops premature end\n",
    "            ++t1; ++t2;\n",
    "            }\n",
    "        }\n",
    "        ++f1;\n",
    "    }\n",
    "    return e1;\n",
    "}"
   ]
  },
  {
   "cell_type": "code",
   "execution_count": 32,
   "metadata": {},
   "outputs": [
    {
     "data": {
      "text/plain": []
     },
     "execution_count": 32,
     "metadata": {},
     "output_type": "execute_result"
    }
   ],
   "source": [
    "template <class A, class F>\n",
    "A my_find_if (A begin, A end, F){\n",
    "    while(begin != end && !F(*begin)) ++begin;\n",
    "    return begin;\n",
    "}\n",
    "\n",
    "int my_intzz[] = {2, 5, 7, 8, 9, 5, 7};\n"
   ]
  },
  {
   "cell_type": "code",
   "execution_count": 33,
   "metadata": {},
   "outputs": [
    {
     "name": "stderr",
     "output_type": "stream",
     "text": [
      "\u001b[1minput_line_41:3:28: \u001b[0m\u001b[0;1;35mwarning: \u001b[0m\u001b[1mcast to 'bool (*)(int)' from smaller integer type 'int' [-Wint-to-pointer-cast]\u001b[0m\n",
      "    while(begin != end && !F(*begin)) ++begin;\n",
      "\u001b[0;1;32m                           ^\n",
      "\u001b[0m\u001b[1minput_line_42:2:13: \u001b[0m\u001b[0;1;30mnote: \u001b[0min instantiation of function template specialization 'my_find_if<int *, bool (*)(int)>' requested here\u001b[0m\n",
      " int* ptr = my_find_if(my_intzz, (my_intzz+7), isThirdy);  //why isn't this working?\n",
      "\u001b[0;1;32m            ^\n",
      "\u001b[0m"
     ]
    },
    {
     "name": "stdout",
     "output_type": "stream",
     "text": [
      "0x7f0af161b140 : 2\n"
     ]
    },
    {
     "data": {
      "text/plain": [
       "(std::basic_ostream<char, std::char_traits<char> >::__ostream_type &) @0x7f0aec95df40\n"
      ]
     },
     "execution_count": 33,
     "metadata": {},
     "output_type": "execute_result"
    }
   ],
   "source": [
    "int* ptr = my_find_if(my_intzz, (my_intzz+7), isThirdy);  //why isn't this working?\n",
    "std::cout << ptr << \" : \" << *ptr << std::endl;\n"
   ]
  },
  {
   "cell_type": "code",
   "execution_count": 34,
   "metadata": {},
   "outputs": [
    {
     "data": {
      "text/plain": []
     },
     "execution_count": 34,
     "metadata": {},
     "output_type": "execute_result"
    }
   ],
   "source": [
    "template <class A, class B, class T>\n",
    "A remove_copy(A first, A last, B out, T elem){  //remove specific elements from array, but do so by copying non-that elements to new array\n",
    "    while (first != last){\n",
    "        if (*first != elem){\n",
    "            *out = *first;\n",
    "            ++out;\n",
    "        }\n",
    "        ++first;\n",
    "    }\n",
    "    return out;\n",
    "}"
   ]
  },
  {
   "cell_type": "code",
   "execution_count": 35,
   "metadata": {},
   "outputs": [
    {
     "data": {
      "text/plain": []
     },
     "execution_count": 35,
     "metadata": {},
     "output_type": "execute_result"
    }
   ],
   "source": [
    "template <class A, class T>\n",
    "A remove(A begin, A end, T e){\n",
    "    A out = begin;\n",
    "    while (begin != end){\n",
    "        if (*begin != end){\n",
    "            *out = *begin;\n",
    "            ++out;\n",
    "        }\n",
    "        ++begin;\n",
    "    }\n",
    "    return out;\n",
    "}  //you usually want to run remove() afterwards"
   ]
  },
  {
   "cell_type": "code",
   "execution_count": 36,
   "metadata": {},
   "outputs": [
    {
     "data": {
      "text/plain": []
     },
     "execution_count": 36,
     "metadata": {},
     "output_type": "execute_result"
    }
   ],
   "source": [
    "template <class T> void swap(T& a, T& b){\n",
    "    T c(a); a=b; b=c;\n",
    "}\n",
    "\n",
    "\n",
    "//this makes no sense but I am tired so I'll deal with it tomorrow\n",
    "template <class A, class F>\n",
    "A myPartition(A first, A last, F test){\n",
    "    --last;\n",
    "    while(first != last){\n",
    "        while(!test(*first) && first != last){\n",
    "            ++first;\n",
    "        }\n",
    "        if (first == last){\n",
    "            return first;\n",
    "        }\n",
    "        swap(*first, *last);\n",
    "        --last;\n",
    "    }\n",
    "    return first;\n",
    "}"
   ]
  },
  {
   "cell_type": "code",
   "execution_count": 37,
   "metadata": {},
   "outputs": [
    {
     "data": {
      "text/plain": []
     },
     "execution_count": 37,
     "metadata": {},
     "output_type": "execute_result"
    }
   ],
   "source": [
    "std::vector<int> z {1,2,3,4,5,6,7,8,9};"
   ]
  },
  {
   "cell_type": "code",
   "execution_count": 38,
   "metadata": {},
   "outputs": [
    {
     "name": "stdout",
     "output_type": "stream",
     "text": [
      "1,  2,  8,  4,  5,  7,  6,  9,  3,  "
     ]
    },
    {
     "data": {
      "text/plain": [
       "(void) @0x7f0ada7fad08\n"
      ]
     },
     "execution_count": 38,
     "metadata": {},
     "output_type": "execute_result"
    }
   ],
   "source": [
    "myPartition(z.begin(), z.end(), isThirdy);\n",
    "\n",
    "printCont(z.begin(), z.end())"
   ]
  },
  {
   "cell_type": "markdown",
   "metadata": {},
   "source": []
  },
  {
   "cell_type": "code",
   "execution_count": 39,
   "metadata": {},
   "outputs": [
    {
     "data": {
      "text/plain": []
     },
     "execution_count": 39,
     "metadata": {},
     "output_type": "execute_result"
    }
   ],
   "source": [
    "std::list<int> wow;\n",
    "auto end_list = wow.end();\n",
    "auto end_vec = z.end();"
   ]
  },
  {
   "cell_type": "code",
   "execution_count": 40,
   "metadata": {},
   "outputs": [
    {
     "name": "stdout",
     "output_type": "stream",
     "text": [
      "104\n",
      "0\n",
      "0\n"
     ]
    },
    {
     "data": {
      "text/plain": [
       "(std::basic_ostream<char, std::char_traits<char> >::__ostream_type &) @0x7f0aec95df40\n"
      ]
     },
     "execution_count": 40,
     "metadata": {},
     "output_type": "execute_result"
    }
   ],
   "source": [
    "std::cout << *end_vec << std::endl;\n",
    "std::cout << *end_list << std::endl;\n",
    "\n",
    "//std::cout << (end_vec == end_list) << std::endl;  //looks like you can't compare different iterator types\n",
    "std::cout << (end_vec == outie.end()) << std::endl; \n",
    "\n"
   ]
  },
  {
   "cell_type": "markdown",
   "metadata": {
    "collapsed": true
   },
   "source": [
    "Testing iterator ++ with vectors"
   ]
  },
  {
   "cell_type": "code",
   "execution_count": 41,
   "metadata": {},
   "outputs": [
    {
     "name": "stdout",
     "output_type": "stream",
     "text": [
      "Ito1 : 1   Ito1++: 1 Ito1: 2\n",
      "Ito2 : 1   ++Ito2: 2 Ito2: 2\n"
     ]
    },
    {
     "data": {
      "text/plain": [
       "(std::basic_ostream<char, std::char_traits<char> >::__ostream_type &) @0x7f0aec95df40\n"
      ]
     },
     "execution_count": 41,
     "metadata": {},
     "output_type": "execute_result"
    }
   ],
   "source": [
    "std::vector<int> wowee {1,2,3,4,5,6};\n",
    "std::vector<int> wowoo {1,2,3,4,5,6};\n",
    "\n",
    "auto ito1 = wowee.begin();\n",
    "auto ito2 = wowoo.begin();\n",
    "\n",
    "std::cout << \"Ito1 : \" << *ito1  << \"   Ito1++: \" << *ito1++ << \" Ito1: \" << *ito1 << std::endl;\n",
    "\n",
    "std::cout << \"Ito2 : \" << *ito2  << \"   ++Ito2: \" << ++*ito2 << \" Ito2: \" << *ito2 << std::endl;\n"
   ]
  },
  {
   "cell_type": "markdown",
   "metadata": {},
   "source": [
    "#### Chapter 9\n",
    "* classes and headers exist, yes\n",
    "\n",
    "I'm going to post the error here as the last part, to review tomorrow w/ da club"
   ]
  },
  {
   "cell_type": "code",
   "execution_count": 42,
   "metadata": {},
   "outputs": [
    {
     "name": "stderr",
     "output_type": "stream",
     "text": [
      "In file included from input_line_3:1:\n",
      "In file included from /usr/include/c++/5/iostream:39:\n",
      "In file included from /usr/include/c++/5/ostream:38:\n",
      "In file included from /usr/include/c++/5/ios:40:\n",
      "In file included from /usr/include/c++/5/bits/char_traits.h:39:\n",
      "In file included from /usr/include/c++/5/bits/stl_algobase.h:67:\n",
      "\u001b[1m/usr/include/c++/5/bits/stl_iterator.h:449:44: \u001b[0m\u001b[0;1;31merror: \u001b[0m\u001b[1mno type named 'value_type' in 'binsert'\u001b[0m\n",
      "      operator=(const typename _Container::value_type& __value)\n",
      "\u001b[0;1;32m                      ~~~~~~~~~~~~~~~~~~~~~^~~~~~~~~~\n",
      "\u001b[0m\u001b[1minput_line_55:3:39: \u001b[0m\u001b[0;1;30mnote: \u001b[0min instantiation of template class 'std::back_insert_iterator<binsert>' requested here\u001b[0m\n",
      "std::copy(wowee.begin(), wowee.end(), std::back_inserter(insert_me_daddy));\n",
      "\u001b[0;1;32m                                      ^\n",
      "\u001b[0mIn file included from input_line_3:1:\n",
      "In file included from /usr/include/c++/5/iostream:39:\n",
      "In file included from /usr/include/c++/5/ostream:38:\n",
      "In file included from /usr/include/c++/5/ios:40:\n",
      "In file included from /usr/include/c++/5/bits/char_traits.h:39:\n",
      "In file included from /usr/include/c++/5/bits/stl_algobase.h:67:\n",
      "\u001b[1m/usr/include/c++/5/bits/stl_iterator.h:456:38: \u001b[0m\u001b[0;1;31merror: \u001b[0m\u001b[1mno type named 'value_type' in 'binsert'\u001b[0m\n",
      "      operator=(typename _Container::value_type&& __value)\n",
      "\u001b[0;1;32m                ~~~~~~~~~~~~~~~~~~~~~^~~~~~~~~~\n",
      "\u001b[0mIn file included from input_line_3:1:\n",
      "In file included from /usr/include/c++/5/iostream:39:\n",
      "In file included from /usr/include/c++/5/ostream:38:\n",
      "In file included from /usr/include/c++/5/ios:40:\n",
      "In file included from /usr/include/c++/5/bits/char_traits.h:39:\n",
      "\u001b[1m/usr/include/c++/5/bits/stl_algobase.h:340:18: \u001b[0m\u001b[0;1;31merror: \u001b[0m\u001b[1mno viable overloaded '='\u001b[0m\n",
      "              *__result = *__first;\n",
      "\u001b[0;1;32m              ~~~~~~~~~ ^ ~~~~~~~~\n",
      "\u001b[0m\u001b[1m/usr/include/c++/5/bits/stl_algobase.h:402:36: \u001b[0m\u001b[0;1;30mnote: \u001b[0min instantiation of function template specialization 'std::__copy_move<false, false,\n",
      "      std::random_access_iterator_tag>::__copy_m<int *, std::back_insert_iterator<binsert> >' requested here\u001b[0m\n",
      "                              _Category>::__copy_m(__first, __last, __result);\n",
      "\u001b[0;1;32m                                          ^\n",
      "\u001b[0m\u001b[1m/usr/include/c++/5/bits/stl_algobase.h:438:23: \u001b[0m\u001b[0;1;30mnote: \u001b[0min instantiation of function template specialization 'std::__copy_move_a<false, int *,\n",
      "      std::back_insert_iterator<binsert> >' requested here\u001b[0m\n",
      "      return _OI(std::__copy_move_a<_IsMove>(std::__niter_base(__first),\n",
      "\u001b[0;1;32m                      ^\n",
      "\u001b[0m\u001b[1m/usr/include/c++/5/bits/stl_algobase.h:470:20: \u001b[0m\u001b[0;1;30mnote: \u001b[0min instantiation of function template specialization 'std::__copy_move_a2<false, __gnu_cxx::__normal_iterator<int *,\n",
      "      std::vector<int, std::allocator<int> > >, std::back_insert_iterator<binsert> >' requested here\u001b[0m\n",
      "      return (std::__copy_move_a2<__is_move_iterator<_II>::__value>\n",
      "\u001b[0;1;32m                   ^\n",
      "\u001b[0m\u001b[1minput_line_55:3:6: \u001b[0m\u001b[0;1;30mnote: \u001b[0min instantiation of function template specialization 'std::copy<__gnu_cxx::__normal_iterator<int *, std::vector<int,\n",
      "      std::allocator<int> > >, std::back_insert_iterator<binsert> >' requested here\u001b[0m\n",
      "std::copy(wowee.begin(), wowee.end(), std::back_inserter(insert_me_daddy));\n",
      "\u001b[0;1;32m     ^\n",
      "\u001b[0m\u001b[1m/usr/include/c++/5/bits/stl_iterator.h:415:11: \u001b[0m\u001b[0;1;30mnote: \u001b[0mcandidate function (the implicit copy assignment operator) not viable: no known conversion from 'int' to 'const\n",
      "      std::back_insert_iterator<binsert>' for 1st argument\u001b[0m\n",
      "    class back_insert_iterator\n",
      "\u001b[0;1;32m          ^\n",
      "\u001b[0m\u001b[1m/usr/include/c++/5/bits/stl_iterator.h:415:11: \u001b[0m\u001b[0;1;30mnote: \u001b[0mcandidate function (the implicit move assignment operator) not viable: no known conversion from 'int' to\n",
      "      'std::back_insert_iterator<binsert>' for 1st argument\u001b[0m\n"
     ]
    },
    {
     "ename": "ename",
     "evalue": "evalue",
     "output_type": "error",
     "traceback": []
    }
   ],
   "source": [
    "binsert insert_me_daddy;\n",
    "std::copy(wowee.begin(), wowee.end(), std::back_inserter(insert_me_daddy));\n"
   ]
  }
 ],
 "metadata": {
  "kernelspec": {
   "display_name": "C++14",
   "language": "",
   "name": "cling-cpp14"
  },
  "language_info": {
   "codemirror_mode": "c++",
   "file_extension": ".c++",
   "mimetype": "text/x-c++src",
   "name": "c++"
  }
 },
 "nbformat": 4,
 "nbformat_minor": 2
}
