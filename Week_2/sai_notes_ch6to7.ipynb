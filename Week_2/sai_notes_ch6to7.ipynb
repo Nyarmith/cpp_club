{
 "cells": [
  {
   "cell_type": "markdown",
   "metadata": {},
   "source": [
    "# More Assorted Notes from Deeper Chapters\n",
    "### These should hold more meaning\n",
    "\n"
   ]
  },
  {
   "cell_type": "code",
   "execution_count": 1,
   "metadata": {},
   "outputs": [
    {
     "data": {
      "text/plain": []
     },
     "execution_count": 1,
     "metadata": {},
     "output_type": "execute_result"
    }
   ],
   "source": [
    "// I guess you have to declare things here to make it \"before main\"\n",
    "#include <iostream>\n",
    "#include <vector>\n",
    "#include <algorithm>    //std::back_inserter, std::copy\n",
    "#include <string>\n",
    "#include <cctype>\n",
    "\n",
    "template <class T>\n",
    "void printContainer(const T &in){\n",
    "    //I tried using T::const_iterator as a type but it didn't work, so I used auto instead\n",
    "    for (auto i=in.begin(); i != in.end(); ++i)\n",
    "        std::cout << *i << std::endl;\n",
    "}\n",
    "\n",
    "//declaring classes here so I can overload the << operator\n",
    "class Student{\n",
    "    public:\n",
    "        Student(){grade1 = grade2 = grade3 = 0; name=\"\";}\n",
    "        //this constructor is valid, but I wonder if the naming is in poor style\n",
    "        Student(double grade1, double grade2, double grade3, std::string name) :\n",
    "                grade1(grade1), grade2(grade2), grade3(grade3), name(name) {}\n",
    "        double getAverage() const{ return (grade1 + grade2 + grade3) / 3; }\n",
    "        //copy constructor\n",
    "        Student(const Student &o){ grade1 = o.grade1; grade2=o.grade2; grade3=o.grade3; name=o.name;}\n",
    "        std::string toString() const { return name + \" : \" + std::to_string(getAverage()); }\n",
    "        friend std::ostream& operator<<(std::ostream& os, Student const &m);  //make it printable by streams\n",
    "    private:\n",
    "        //Students are nothing but their grades\n",
    "        double grade1;\n",
    "        double grade2;\n",
    "        double grade3;\n",
    "        std::string name;\n",
    "};\n",
    "\n",
    "\n",
    "std::ostream & operator<<(std::ostream &os, Student const &m){\n",
    "    return os << m.name << \" : \" << m.getAverage();\n",
    "}"
   ]
  },
  {
   "cell_type": "markdown",
   "metadata": {},
   "source": [
    "## Chapter 6\n",
    "\n",
    "#### Analyzing Strings (6.1)\n",
    "* back_inserter()\n",
    "* the templated algorithms in &lt;algorithm&gt; are called \"generic algorithms\"\n",
    "* copy(begin,end,out) has teh same effect as while (begin != end) \\*out++ =  \\*begin++; //note the postfix for returning a copy\n",
    "  * copy will not create new elements, just overwrite the iterators in the 3rd parameter, undefined behavior if 3rd param doesn't have enough elements for the copy (i.e. it breaks)\n",
    "* back_insert does create new elements\n",
    "* back_inserter returns an iterator that lets you add new elements\n",
    "* strings have iterators even though they're not containers\n",
    "* find_if accepts a function that operates on the thing being iterated\n",
    "* find is like find_if but for when the iterator's contents are equal to a value\n",
    "* static is called *storage class specifier*\n",
    "\n",
    "which is better: *\\*out++ = \\*begin++* or *{ \\*out = \\*begin; ++out; ++begin; }*\n",
    "\n"
   ]
  },
  {
   "cell_type": "code",
   "execution_count": 2,
   "metadata": {},
   "outputs": [
    {
     "name": "stdout",
     "output_type": "stream",
     "text": [
      "studoz\n",
      "Johnny : 56\n",
      "Rachel : 303\n",
      "Watson : 222\n",
      "Johnny : 56\n",
      "Rachel : 303\n",
      "Watson : 222\n"
     ]
    },
    {
     "data": {
      "text/plain": [
       "(void) @0x7f4b61ff9d08\n"
      ]
     },
     "execution_count": 2,
     "metadata": {},
     "output_type": "execute_result"
    }
   ],
   "source": [
    "std::vector<Student> studoz;\n",
    "studoz.push_back(Student(45,56,67, \"Johnny\"));\n",
    "studoz.push_back(Student(202,303,404, \"Rachel\"));\n",
    "studoz.push_back(Student(111,222,333, \"Watson\"));\n",
    "\n",
    "std::cout << \"studoz\\n\";\n",
    "printContainer(studoz);\n",
    "\n",
    "std::vector<Student> other_studoz(3);\n",
    "//other_studoz.reserve(3);   //Not working but constructor version does? (maybe reserve doesn't create the actual elements)\n",
    "std::copy(studoz.begin(), studoz.end(), other_studoz.begin());\n",
    "printContainer(other_studoz);"
   ]
  },
  {
   "cell_type": "code",
   "execution_count": 3,
   "metadata": {},
   "outputs": [
    {
     "data": {
      "text/plain": []
     },
     "execution_count": 3,
     "metadata": {},
     "output_type": "execute_result"
    }
   ],
   "source": [
    "//this is to get rid of the overloading thing\n",
    "bool not_space(char c){\n",
    "    return (!isspace(c));\n",
    "}"
   ]
  },
  {
   "cell_type": "code",
   "execution_count": 4,
   "metadata": {},
   "outputs": [
    {
     "name": "stdout",
     "output_type": "stream",
     "text": [
      "work now? \n"
     ]
    },
    {
     "data": {
      "text/plain": [
       "(std::basic_ostream<char, std::char_traits<char> > &) @0x7f4b6bdb3f40\n"
      ]
     },
     "execution_count": 4,
     "metadata": {},
     "output_type": "execute_result"
    }
   ],
   "source": [
    "bool space(char c){\n",
    "    return (isspace(c));\n",
    "}"
   ]
  },
  {
   "cell_type": "code",
   "execution_count": null,
   "metadata": {},
   "outputs": [],
   "source": [
    "/* constant \"function definition is not allowed here. idk why\n",
    "std::vector<std::string> split(const std::string &str){\n",
    "    std::vector<std::string> ret;\n",
    "    std::string::const_iterator i, temp;\n",
    "    while (i != str.end()){\n",
    "        i = find_if(i, std.end(), not_space);  //ignore whitespace\n",
    "        temp = find_if(i, std.end(), space);\n",
    "        if (i != str.end())\n",
    "            ret.push_back(string(i,temp));  //cool constructor that takes iterators\n",
    "        i = temp;\n",
    "    }\n",
    "    return ret;\n",
    "}\n",
    "\n",
    "//find urls in a string\n",
    "std::vector<std::string> find_urls(const std::string& s){\n",
    "    std::vector<std::string> ret;\n",
    "    std::string::const_iterator b = s.begin, e = s.end();\n",
    "    \n",
    "    while (b != e){\n",
    "        std::string::const_iterator after = url_end(b,e);\n",
    "        ret.push_back(string(b,after));\n",
    "        b = after;\n",
    "    }\n",
    "    return ret;\n",
    "}\n",
    "*/"
   ]
  },
  {
   "cell_type": "markdown",
   "metadata": {},
   "source": [
    "* equal(it1.begin(), it1.end(), it2.begin()); seems really, really useful"
   ]
  },
  {
   "cell_type": "markdown",
   "metadata": {},
   "source": [
    "#### Rest of Chapter 6\n",
    "* std::ansform() from std::algorithm, takes 4 args. It's basically like *apply* but for iterators\n",
    "  * std::transform(students.begin(), students.end(), back_inserter(grades), grade);\n",
    "* remove_copy, remove, and remove_if remove iterator elements from their parent object. remove_copy gives you a copy you store though\n",
    "  * there is also a remove_copy_if, lol\n",
    "* parition and stable_partition seem super-duper useful"
   ]
  },
  {
   "cell_type": "code",
   "execution_count": null,
   "metadata": {
    "collapsed": true
   },
   "outputs": [],
   "source": []
  }
 ],
 "metadata": {
  "kernelspec": {
   "display_name": "C++14",
   "language": "",
   "name": "cling-cpp14"
  },
  "language_info": {
   "codemirror_mode": "c++",
   "file_extension": ".c++",
   "mimetype": "text/x-c++src",
   "name": "c++"
  }
 },
 "nbformat": 4,
 "nbformat_minor": 2
}
