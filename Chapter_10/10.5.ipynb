{
 "cells": [
  {
   "cell_type": "markdown",
   "metadata": {},
   "source": [
    "Create class that implements a list that holds strings and write a bidirection iterator for your String_list class(I will just use pointers here I guess). (also it's still unclear to me what explicit does)"
   ]
  },
  {
   "cell_type": "code",
   "execution_count": 1,
   "metadata": {},
   "outputs": [
    {
     "data": {
      "text/plain": []
     },
     "execution_count": 1,
     "metadata": {},
     "output_type": "execute_result"
    }
   ],
   "source": [
    "#include <iostream>\n",
    "#include <memory>\n",
    "#include <algorithm>\n",
    "#include <string>"
   ]
  },
  {
   "cell_type": "code",
   "execution_count": 2,
   "metadata": {},
   "outputs": [
    {
     "name": "stderr",
     "output_type": "stream",
     "text": [
      "Using raw input\n"
     ]
    },
    {
     "data": {
      "text/plain": []
     },
     "execution_count": 2,
     "metadata": {},
     "output_type": "execute_result"
    }
   ],
   "source": [
    ".rawInput"
   ]
  },
  {
   "cell_type": "code",
   "execution_count": 3,
   "metadata": {},
   "outputs": [
    {
     "data": {
      "text/plain": []
     },
     "execution_count": 3,
     "metadata": {},
     "output_type": "execute_result"
    }
   ],
   "source": [
    "struct String_list_node{\n",
    "  std::string val;\n",
    "  String_list_node *next;\n",
    "  String_list_node *prev;\n",
    "  String_list_node& operator++();    //Prefix\n",
    "  String_list_node operator++(int);  // Postfix\n",
    "  String_list_node& operator--();    //Prefix\n",
    "  String_list_node operator--(int);  // Postfix\n",
    "};\n",
    "\n",
    "String_list_node& String_list_node::operator++(){\n",
    "    val  = next->val;\n",
    "    prev = next->prev;\n",
    "    next = next->next;\n",
    "    return *this;\n",
    "}\n",
    "String_list_node String_list_node::operator++(int){\n",
    "    String_list_node copy = *this;  //what a cool trick\n",
    "    ++*this;\n",
    "    return copy;\n",
    "}\n",
    "\n",
    "String_list_node& String_list_node::operator--(){\n",
    "    val  = prev->val;\n",
    "    next = prev->next;\n",
    "    prev = prev->prev;\n",
    "    return *this;\n",
    "}\n",
    "String_list_node String_list_node::operator--(int){\n",
    "    String_list_node copy = *this;\n",
    "    --*this;\n",
    "    return copy;\n",
    "}\n",
    "\n",
    "\n",
    "\n",
    "class String_list {\n",
    "public:\n",
    "    typedef String_list_node iterator;\n",
    "    typedef const String_list_node const_iterator;\n",
    "    \n",
    "    String_list(){}\n",
    "    iterator begin(){\n",
    "      return (*begin_);\n",
    "    }\n",
    "    iterator end(){\n",
    "      return (*end_);\n",
    "    }\n",
    "    iterator insert(iterator & pos, std::string value){\n",
    "      String_list_node *newguy = new String_list_node;\n",
    "      newguy->val = value;\n",
    "      newguy->next = &pos;\n",
    "      newguy->prev = pos.prev;\n",
    "      pos.prev = newguy;\n",
    "      return *newguy;\n",
    "    }\n",
    "    \n",
    "    iterator push_back(std::string value){\n",
    "    //remember to maintain a separate end than the actual list\n",
    "      String_list_node *newguy = new String_list_node;\n",
    "      newguy->val = value;\n",
    "      newguy->next = end_;\n",
    "      newguy->prev = end_->prev;\n",
    "      end_->prev = newguy;\n",
    "      return *newguy;\n",
    "    }\n",
    "    \n",
    "private:\n",
    "    iterator *begin_;\n",
    "    iterator *end_;\n",
    "};"
   ]
  },
  {
   "cell_type": "code",
   "execution_count": 5,
   "metadata": {},
   "outputs": [
    {
     "name": "stderr",
     "output_type": "stream",
     "text": [
      "Using raw input\n"
     ]
    },
    {
     "data": {
      "text/plain": []
     },
     "execution_count": 5,
     "metadata": {},
     "output_type": "execute_result"
    }
   ],
   "source": [
    ".rawInput"
   ]
  }
 ],
 "metadata": {
  "kernelspec": {
   "display_name": "C++14",
   "language": "",
   "name": "cling-cpp14"
  },
  "language_info": {
   "codemirror_mode": "c++",
   "file_extension": ".c++",
   "mimetype": "text/x-c++src",
   "name": "c++"
  }
 },
 "nbformat": 4,
 "nbformat_minor": 2
}
