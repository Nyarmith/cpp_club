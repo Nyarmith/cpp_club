{
 "cells": [
  {
   "cell_type": "code",
   "execution_count": 1,
   "metadata": {},
   "outputs": [
    {
     "data": {
      "text/plain": []
     },
     "execution_count": 1,
     "metadata": {},
     "output_type": "execute_result"
    }
   ],
   "source": [
    "#include <iostream>\n",
    "#include <vector>\n",
    "#include <algorithm>\n",
    "#include <list>\n",
    "#include <cstdlib>\n",
    "\n",
    "#define SAMPSIZE 100000"
   ]
  },
  {
   "cell_type": "code",
   "execution_count": 2,
   "metadata": {},
   "outputs": [
    {
     "data": {
      "text/plain": []
     },
     "execution_count": 2,
     "metadata": {},
     "output_type": "execute_result"
    }
   ],
   "source": [
    "\n",
    "//for this experiment we'll use timers to comare operations done on std::vector and std::list\n",
    "std::vector<int> sample;\n",
    "for (int i=0; i < SAMPSIZE; i++){\n",
    "    sample.push_back(rand() % (int)0x8FFFFFFF);\n",
    "}"
   ]
  },
  {
   "cell_type": "markdown",
   "metadata": {},
   "source": [
    "2 types of times:\n",
    "- system time\n",
    "- real time\n",
    "\n",
    "* clock() measures CPU time, not wall-clock time\n",
    "* ANSI C has a time() which gives 1 second resolution\n",
    "* if you have POSIX compliance, you can use clock_gettime(), with param CLOCK_MONOTONIC and then get elapsed time in \n",
    "    * this gives you a struct which holds both seconds and nanoseconds\n",
    "\n",
    "https://linux.die.net/man/3/clock_gettime\n",
    "\n"
   ]
  },
  {
   "cell_type": "code",
   "execution_count": null,
   "metadata": {},
   "outputs": [],
   "source": [
    "#include <ctime>   //method 1"
   ]
  },
  {
   "cell_type": "code",
   "execution_count": 3,
   "metadata": {},
   "outputs": [
    {
     "name": "stdout",
     "output_type": "stream",
     "text": [
      "Time to sort vector : 10.375\n",
      "Time to sort list : 9\n"
     ]
    },
    {
     "data": {
      "text/plain": [
       "(std::basic_ostream<char, std::char_traits<char> > &) @0x7fdf34ebef40\n"
      ]
     },
     "execution_count": 3,
     "metadata": {},
     "output_type": "execute_result"
    }
   ],
   "source": [
    "//copies to test on\n",
    "std::vector<int> cpy = sample;\n",
    "\n",
    "std::clock_t start;\n",
    "double duration;\n",
    "start = std::clock();\n",
    "\n",
    "std::sort(cpy.begin(), cpy.end());\n",
    "\n",
    "std::clock_t end = std::clock();\n",
    "\n",
    "duration = (end - start) / (double) CLOCKS_PER_SEC;\n",
    "\n",
    "std::cout << \"Time to sort vector : \" << duration << \"\\n\";\n",
    "\n",
    "std::list<int> cpy2(sample.begin(), sample.end());\n",
    "\n",
    "start = std::clock();\n",
    "cpy2.sort();\n",
    "end = std::clock();\n",
    "duration = (end - start) / (double) CLOCKS_PER_SEC;\n",
    "std::cout << \"Time to sort list : \" << duration << \"\\n\";"
   ]
  },
  {
   "cell_type": "markdown",
   "metadata": {},
   "source": [
    "You can combine this with a tracer style struct-define-block to add timing macros I guess"
   ]
  },
  {
   "cell_type": "code",
   "execution_count": 4,
   "metadata": {},
   "outputs": [
    {
     "data": {
      "text/plain": []
     },
     "execution_count": 4,
     "metadata": {},
     "output_type": "execute_result"
    }
   ],
   "source": [
    "//templated ctime thing\n",
    "template <class Func, class Arg>\n",
    "double measure_duration()"
   ]
  },
  {
   "cell_type": "markdown",
   "metadata": {},
   "source": [
    "The *chrono* header provides:\n",
    "\n",
    "* system_clock - real-time system clock\n",
    "* high_resolution_clock - real-time clock with the shortest tick period possible on the current system;\n",
    "* steady_clock - this is a monotonic clock that is guaranteed to never be adjusted"
   ]
  },
  {
   "cell_type": "code",
   "execution_count": null,
   "metadata": {},
   "outputs": [],
   "source": [
    "#include <chrono>  //method 2"
   ]
  },
  {
   "cell_type": "code",
   "execution_count": null,
   "metadata": {},
   "outputs": [],
   "source": [
    "template<typename TimeT = std::chrono::milliseconds>\n",
    "struct measure\n",
    "{\n",
    "    template<typename F, typename ...Args>\n",
    "    static typename TimeT::rep execution(F&& func, Args&&... args)\n",
    "    {\n",
    "        auto start = std::chrono::steady_clock::now();\n",
    "        std::forward<decltype(func)>(func)(std::forward<Args>(args)...);\n",
    "        auto duration = std::chrono::duration_cast< TimeT> \n",
    "                            (std::chrono::steady_clock::now() - start);\n",
    "        return duration.count();\n",
    "    }\n",
    "};"
   ]
  },
  {
   "cell_type": "markdown",
   "metadata": {},
   "source": []
  },
  {
   "cell_type": "code",
   "execution_count": 5,
   "metadata": {},
   "outputs": [
    {
     "data": {
      "text/plain": []
     },
     "execution_count": 5,
     "metadata": {},
     "output_type": "execute_result"
    }
   ],
   "source": []
  }
 ],
 "metadata": {
  "kernelspec": {
   "display_name": "C++14",
   "language": "",
   "name": "cling-cpp14"
  },
  "language_info": {
   "codemirror_mode": "c++",
   "file_extension": ".c++",
   "mimetype": "text/x-c++src",
   "name": "c++"
  }
 },
 "nbformat": 4,
 "nbformat_minor": 2
}
