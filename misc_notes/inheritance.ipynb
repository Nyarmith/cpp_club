{
 "cells": [
  {
   "cell_type": "code",
   "execution_count": 1,
   "metadata": {},
   "outputs": [
    {
     "data": {
      "text/plain": []
     },
     "execution_count": 1,
     "metadata": {},
     "output_type": "execute_result"
    }
   ],
   "source": [
    "#include <iostream>\n",
    "#include <vector>\n",
    "#include <string>"
   ]
  },
  {
   "cell_type": "code",
   "execution_count": 2,
   "metadata": {},
   "outputs": [
    {
     "data": {
      "text/plain": []
     },
     "execution_count": 2,
     "metadata": {},
     "output_type": "execute_result"
    }
   ],
   "source": [
    "struct base {\n",
    "    int y, x;\n",
    "    base() {y=x=1;}\n",
    "    base(int y, int x) : y(y), x(x) { }\n",
    "    virtual void print(){\n",
    "        std::cout << std::string(\"wow, ann \") + std::to_string(x) << std::endl;\n",
    "    }\n",
    "};\n",
    "\n",
    "struct special : public base {\n",
    "    special() {y=x=2;}\n",
    "    special(int y, int x) : base(y,x) { }\n",
    "    virtual void print(){\n",
    "        std::cout << std::string(\"wow, am \") + std::to_string(x) << std::endl;\n",
    "    }\n",
    "};"
   ]
  },
  {
   "cell_type": "code",
   "execution_count": 3,
   "metadata": {},
   "outputs": [
    {
     "name": "stdout",
     "output_type": "stream",
     "text": [
      "wow, ann 1\n",
      "wow, am 2\n"
     ]
    },
    {
     "data": {
      "text/plain": [
       "(void) nullptr\n"
      ]
     },
     "execution_count": 3,
     "metadata": {},
     "output_type": "execute_result"
    }
   ],
   "source": [
    "base y;\n",
    "special x;\n",
    "y.print();\n",
    "x.print();"
   ]
  },
  {
   "cell_type": "code",
   "execution_count": 4,
   "metadata": {},
   "outputs": [
    {
     "name": "stderr",
     "output_type": "stream",
     "text": [
      "Using raw input\n"
     ]
    },
    {
     "data": {
      "text/plain": []
     },
     "execution_count": 4,
     "metadata": {},
     "output_type": "execute_result"
    }
   ],
   "source": [
    ".rawInput"
   ]
  },
  {
   "cell_type": "code",
   "execution_count": 5,
   "metadata": {},
   "outputs": [
    {
     "data": {
      "text/plain": []
     },
     "execution_count": 5,
     "metadata": {},
     "output_type": "execute_result"
    }
   ],
   "source": [
    "void ref_test(base &w){\n",
    "  std::cout << \"\\npass by reference\\n\";\n",
    "  w.print();\n",
    "}\n",
    "\n",
    "void ptr_test(base *w){\n",
    "  std::cout << \"\\npass by ptr-copy\\n\";\n",
    "  w->print();\n",
    "}\n",
    "\n",
    "void ptr_deriv_test(special *w){\n",
    "  std::cout << \"\\npass by derived-ptr-copy\\n\";\n",
    "  w->print();\n",
    "}\n",
    "\n",
    "void base_copy_test(base w){\n",
    "  std::cout << \"\\npass by base-copy\\n\";\n",
    "  w.print();\n",
    "}\n",
    "\n",
    "void derive_copy_test(special w){\n",
    "  std::cout << \"\\npass by derived-copy\\n\";\n",
    "  w.print();\n",
    "}"
   ]
  },
  {
   "cell_type": "code",
   "execution_count": 6,
   "metadata": {},
   "outputs": [
    {
     "name": "stderr",
     "output_type": "stream",
     "text": [
      "Not using raw input\n"
     ]
    },
    {
     "data": {
      "text/plain": []
     },
     "execution_count": 6,
     "metadata": {},
     "output_type": "execute_result"
    }
   ],
   "source": [
    ".rawInput"
   ]
  },
  {
   "cell_type": "markdown",
   "metadata": {},
   "source": [
    "### Normal Scenario"
   ]
  },
  {
   "cell_type": "code",
   "execution_count": 7,
   "metadata": {},
   "outputs": [
    {
     "name": "stdout",
     "output_type": "stream",
     "text": [
      "\n",
      "pass by reference\n",
      "wow, am 2\n",
      "\n",
      "pass by ptr-copy\n",
      "wow, am 2\n"
     ]
    },
    {
     "data": {
      "text/plain": [
       "(void) nullptr\n"
      ]
     },
     "execution_count": 7,
     "metadata": {},
     "output_type": "execute_result"
    }
   ],
   "source": [
    "ref_test(x);\n",
    "ptr_test(&x);"
   ]
  },
  {
   "cell_type": "markdown",
   "metadata": {},
   "source": [
    "### Passing Derived Ptrs"
   ]
  },
  {
   "cell_type": "code",
   "execution_count": 8,
   "metadata": {},
   "outputs": [
    {
     "name": "stdout",
     "output_type": "stream",
     "text": [
      "\n",
      "pass by derived-ptr-copy\n",
      "wow, am 2\n",
      "\n",
      "pass by base-copy\n",
      "wow, ann 1\n",
      "\n",
      "pass by base-copy\n",
      "wow, ann 2\n",
      "\n",
      "pass by derived-copy\n",
      "wow, am 2\n"
     ]
    },
    {
     "data": {
      "text/plain": [
       "(void) nullptr\n"
      ]
     },
     "execution_count": 8,
     "metadata": {},
     "output_type": "execute_result"
    }
   ],
   "source": [
    "//ptr_deriv_test(dynamic_cast<special*>(&y));  //base ptr to derived  //Doesn't let you do that unless you explicitly upcast\n",
    "ptr_deriv_test(&x);  //derived ptr to derived\n",
    "\n",
    "base_copy_test(y);\n",
    "base_copy_test(x);\n",
    "\n",
    "//derive_copy_test(dynamic_cast<special>(y)); //again, not letting you do this\n",
    "derive_copy_test(x);"
   ]
  },
  {
   "cell_type": "code",
   "execution_count": null,
   "metadata": {},
   "outputs": [],
   "source": []
  }
 ],
 "metadata": {
  "kernelspec": {
   "display_name": "C++14",
   "language": "",
   "name": "cling-cpp14"
  },
  "language_info": {
   "codemirror_mode": "c++",
   "file_extension": ".c++",
   "mimetype": "text/x-c++src",
   "name": "c++"
  }
 },
 "nbformat": 4,
 "nbformat_minor": 2
}
