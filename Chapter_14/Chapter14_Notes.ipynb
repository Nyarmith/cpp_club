{
 "cells": [
  {
   "cell_type": "markdown",
   "metadata": {},
   "source": [
    "# Chapter 14\n",
    "* Combining two inndependent abstractions into a single class is often a sign of weak design\n",
    "* I guess we're making a smart pointer class\n",
    "\n",
    "Handle classes that:\n",
    "-copy their objects\n",
    "-don't copy their objects\n"
   ]
  },
  {
   "cell_type": "code",
   "execution_count": 1,
   "metadata": {},
   "outputs": [
    {
     "name": "stderr",
     "output_type": "stream",
     "text": [
      "Using raw input\n"
     ]
    },
    {
     "data": {
      "text/plain": []
     },
     "execution_count": 1,
     "metadata": {},
     "output_type": "execute_result"
    }
   ],
   "source": [
    ".rawInput"
   ]
  },
  {
   "cell_type": "code",
   "execution_count": 2,
   "metadata": {},
   "outputs": [
    {
     "data": {
      "text/plain": []
     },
     "execution_count": 2,
     "metadata": {},
     "output_type": "execute_result"
    }
   ],
   "source": [
    "template <class T> class Handle {\n",
    "public:\n",
    "    Handle(): p(0) { }\n",
    "    Handle(const Handle& s): p(0) { if (s.p) p = s.p->clone(); }\n",
    "    Handle& operator=(const Handle&);\n",
    "    ~Handle() { delete p; }\n",
    "\n",
    "    Handle(T* t): p(t) { }\n",
    "\n",
    "    operator bool() const { return p; }\n",
    "    T& operator*() const;\n",
    "    T* operator->() const;\n",
    "\n",
    "private:\n",
    "    T* p;\n",
    "};\n",
    "\n",
    "#include <stdexcept>\n",
    "\n",
    "using std::runtime_error;\n",
    "\n",
    "template <class T>\n",
    "Handle<T>& Handle<T>::operator=(const Handle& rhs)\n",
    "{\n",
    "    if (&rhs != this) {\n",
    "        delete p;\n",
    "        p = rhs.p ? rhs.p->clone() : 0;\n",
    "    }\n",
    "    return *this;\n",
    "}\n",
    "\n",
    "template <class T>\n",
    "T& Handle<T>::operator*() const\n",
    "{\n",
    "    if (p) \t\n",
    "        return *p;\n",
    "    throw runtime_error(\"unbound Handle\");\n",
    "}\n",
    "\n",
    "template <class T>\n",
    "T* Handle<T>::operator->() const\n",
    "{\n",
    "    if (p)\n",
    "        return p;\n",
    "    throw runtime_error(\"unbound Handle\");\n",
    "}\n"
   ]
  },
  {
   "cell_type": "code",
   "execution_count": 3,
   "metadata": {},
   "outputs": [
    {
     "name": "stderr",
     "output_type": "stream",
     "text": [
      "Not using raw input\n"
     ]
    },
    {
     "data": {
      "text/plain": []
     },
     "execution_count": 3,
     "metadata": {},
     "output_type": "execute_result"
    }
   ],
   "source": [
    ".rawInput"
   ]
  },
  {
   "cell_type": "markdown",
   "metadata": {},
   "source": [
    "for some general type x,\n",
    "x->y\n",
    "is equivalent to\n",
    "(x.operator->())->y\n",
    "\n",
    "similarly\n",
    "(\\*student).grade() calls grade() through a reference\n",
    "\n",
    "Template Specializations look like template definitions they are specializing, but omit a few type parameters, replacing them with specific types instead"
   ]
  },
  {
   "cell_type": "code",
   "execution_count": 4,
   "metadata": {},
   "outputs": [
    {
     "name": "stderr",
     "output_type": "stream",
     "text": [
      "Using raw input\n"
     ]
    },
    {
     "data": {
      "text/plain": []
     },
     "execution_count": 4,
     "metadata": {},
     "output_type": "execute_result"
    }
   ],
   "source": [
    ".rawInput"
   ]
  },
  {
   "cell_type": "code",
   "execution_count": 5,
   "metadata": {},
   "outputs": [
    {
     "data": {
      "text/plain": []
     },
     "execution_count": 5,
     "metadata": {},
     "output_type": "execute_result"
    }
   ],
   "source": [
    "class Ref_count {\n",
    "public:\n",
    "  Ref_count(): count(new std::size_t(1)) { }\n",
    "\n",
    "  std::size_t val() const { return *count; }\n",
    "  void operator ++() const { ++*count; }\n",
    "  void operator --() const { if (--*count == 0) delete count; }\n",
    "\n",
    "private:\n",
    "  std::size_t* count;\n",
    "};\n",
    "\n",
    "template <class T> class Ptr {\n",
    "public:\n",
    "    void make_unique() {\n",
    "    if (refptr.val() != 1) {\n",
    "      --refptr;\n",
    "      refptr = Ref_count();\n",
    "      p = p? clone(p): 0;\n",
    "    }\n",
    "  }\n",
    "\n",
    " Ptr(): p(0) { }\n",
    " Ptr(T* t): p(t) { }\n",
    " Ptr(const Ptr& h): p(h.p), refptr(h.refptr) { ++refptr; }\n",
    "\n",
    "  Ptr& operator=(const Ptr&);\n",
    "  ~Ptr();\n",
    "  operator bool() const { return p; }\n",
    "  T& operator*() const;\n",
    "  T* operator->() const;\n",
    "\n",
    "private:\n",
    "  T* p;\n",
    "  Ref_count refptr;\n",
    "};\n",
    "\n",
    "template <class T> T* clone(const T* tp) {\n",
    "  return tp->clone();\n",
    "}\n",
    "\n",
    "template<class T> T& Ptr<T>::operator*() const { \n",
    "  if (p) return *p; throw std::runtime_error(\"unbound Ptr\"); \n",
    "}\n",
    "\n",
    "template<class T> T* Ptr<T>::operator->() const { \n",
    "  if (p) return p; throw std::runtime_error(\"unbound Ptr\"); \n",
    "}\n",
    "\n",
    "template<class T> Ptr<T>& Ptr<T>::operator=(const Ptr& rhs) {\n",
    "  ++rhs.refptr;\n",
    "  --refptr;\n",
    "\n",
    "  if (refptr.val() == 0) {\n",
    "    delete p;\n",
    "  }\n",
    "\n",
    "  refptr = rhs.refptr;\n",
    "  p = rhs.p;\n",
    "\n",
    "  return *this;\n",
    "}\n",
    "\n",
    "template<class T> Ptr<T>::~Ptr() {\n",
    "    --refptr;\n",
    "\n",
    "    if (refptr.val() == 0) {\n",
    "        delete p;\n",
    "    }\n",
    "}"
   ]
  },
  {
   "cell_type": "code",
   "execution_count": 6,
   "metadata": {},
   "outputs": [
    {
     "name": "stderr",
     "output_type": "stream",
     "text": [
      "Not using raw input\n"
     ]
    },
    {
     "data": {
      "text/plain": []
     },
     "execution_count": 6,
     "metadata": {},
     "output_type": "execute_result"
    }
   ],
   "source": [
    ".rawInput"
   ]
  }
 ],
 "metadata": {
  "kernelspec": {
   "display_name": "C++14",
   "language": "",
   "name": "cling-cpp14"
  },
  "language_info": {
   "codemirror_mode": "c++",
   "file_extension": ".c++",
   "mimetype": "text/x-c++src",
   "name": "c++"
  }
 },
 "nbformat": 4,
 "nbformat_minor": 2
}
