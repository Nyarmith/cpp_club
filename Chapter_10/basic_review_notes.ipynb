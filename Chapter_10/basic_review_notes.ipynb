{
 "cells": [
  {
   "cell_type": "markdown",
   "metadata": {},
   "source": [
    "# Chapter 9 thing I missed\n",
    "* Explicitly, going over for the 200th time, the difference between constructors\n",
    "* __copy constructor__ is used to initialize a _previously uninitialized_ object from some other object's data\n",
    "* __assignment operator__ is used to replace the data of a _previously initalized_ object with some other object's data\n",
    "* In c++11 you can explicitly default constructors with =default;\n",
    "    * default constructor is copy-constructor\n",
    "\n",
    "Related __rule of three__ \"https://stackoverflow.com/questions/4172722/what-is-the-rule-of-three\"\n",
    "executive summary:\n",
    "- \"value semantics\" == \"objects are implicitly copied in various objects\"\n",
    "- \"copying objects\" == \"values are assigned to an object that may or may not have had a state already(hence it picks diff handlers)\n",
    "- the assignment b=a called \"copy assignment operator\" in this SE answer (is that right? isnt' is *just* the assignment operator?(it's called copy here because the values are copied, there is not a copy of the right-hand object being made))\n",
    "    - this is bad because with pointers you get shallow copies(I think std containers do assignment copies fine)\n",
    "Ok, so the rule of 3 at last:\n",
    "\n",
    "```\n",
    "    If you need to explicitly declare either the destructor, copy constructor or copy assignment operator yourself, you probably need to explicitly declare all three of them.\n",
    "\n",
    "```\n",
    "\n",
    "finally, these are also called _direct initialization_ and _copy initialization_\n",
    "https://stackoverflow.com/questions/4293596/when-should-you-use-direct-initialization-and-when-copy-initialization\n",
    "- Copy-initialization Type1 x = a;\n",
    "- Direct-initialization Type1 x(a);\n",
    "These are not equivalent, most notable in contexts where a conversion is required\n",
    "\n",
    "## From section 9.5\n"
   ]
  },
  {
   "cell_type": "code",
   "execution_count": 1,
   "metadata": {},
   "outputs": [
    {
     "data": {
      "text/plain": []
     },
     "execution_count": 1,
     "metadata": {},
     "output_type": "execute_result"
    }
   ],
   "source": [
    "struct wow{\n",
    "    int a,b,c;\n",
    "    int x;\n",
    "    int *ayy;\n",
    "}"
   ]
  },
  {
   "cell_type": "code",
   "execution_count": 2,
   "metadata": {},
   "outputs": [
    {
     "data": {
      "text/plain": []
     },
     "execution_count": 2,
     "metadata": {},
     "output_type": "execute_result"
    }
   ],
   "source": [
    "#include <iostream>"
   ]
  },
  {
   "cell_type": "code",
   "execution_count": 3,
   "metadata": {},
   "outputs": [
    {
     "name": "stdout",
     "output_type": "stream",
     "text": [
      "0\n",
      "0\n",
      "0x7f66450a1024\n",
      "0x7f66450a1024\n",
      "0x7f66450a1024\n"
     ]
    },
    {
     "data": {
      "text/plain": [
       "(std::basic_ostream<char, std::char_traits<char> > &) @0x7f66403a3f40\n"
      ]
     },
     "execution_count": 3,
     "metadata": {},
     "output_type": "execute_result"
    }
   ],
   "source": [
    "wow b;  //checking default initialization\n",
    "b.ayy = &b.x;\n",
    "std::cout << b.x << \"\\n\";\n",
    "std::cout << b.b << \"\\n\";\n",
    "std::cout << b.ayy << \"\\n\";\n",
    "wow c(b);\n",
    "std::cout << c.ayy << \"\\n\";\n",
    "\n",
    "wow d = b;\n",
    "std::cout << d.ayy << \"\\n\";"
   ]
  },
  {
   "cell_type": "code",
   "execution_count": 4,
   "metadata": {},
   "outputs": [
    {
     "name": "stdout",
     "output_type": "stream",
     "text": [
      "0\n",
      "0x7f66450a1024\n",
      "0x7f66450a1024\n"
     ]
    },
    {
     "data": {
      "text/plain": [
       "(std::basic_ostream<char, std::char_traits<char> > &) @0x7f66403a3f40\n"
      ]
     },
     "execution_count": 4,
     "metadata": {},
     "output_type": "execute_result"
    }
   ],
   "source": [
    "int &t = b.x;\n",
    "std::cout << t << \"\\n\";\n",
    "std::cout << &t << \"\\n\";\n",
    "std::cout << &b.x << \"\\n\";"
   ]
  },
  {
   "cell_type": "markdown",
   "metadata": {},
   "source": [
    "# Chapter 10 thing I probably didn't miss but am writing down for posterity\n",
    "\n",
    "* in a declaration like `int *p`, the `*p` part is called the \"declarator\", i.e. `*p` is a *declarator*\n",
    "* it's most often said in the above statement, that `p` has type `int*`, but it would be more correct to say that `*p` has type int\n",
    "* function ptr syntax review : `int (*myfp)(int)` creates myfp which holds a function that returns an int and accepts an int\n",
    "    * `fp = next`, `fp = &next` are equivalent, and `i = (*fp)(i)`, `i = fp(i)` are equivalent\n",
    "\n",
    "* stop forgetting, new T[20]; needs to be freed with delete[] T;"
   ]
  },
  {
   "cell_type": "code",
   "execution_count": 5,
   "metadata": {},
   "outputs": [
    {
     "name": "stdout",
     "output_type": "stream",
     "text": [
      "0x7f66450a1070\n",
      "0x7f66450a1070\n",
      "23"
     ]
    },
    {
     "data": {
      "text/plain": [
       "(std::basic_ostream<char, std::char_traits<char> >::__ostream_type &) @0x7f66403a3f40\n"
      ]
     },
     "execution_count": 5,
     "metadata": {},
     "output_type": "execute_result"
    }
   ],
   "source": [
    "// This function is completely legitimate. The author refers to this as \"static memory management\"\n",
    "int* pointer_to_static()\n",
    "{\n",
    "    static int x;  //the keyword\n",
    "    return &x;\n",
    "}\n",
    "std::cout << pointer_to_static() << \"\\n\";\n",
    "std::cout << pointer_to_static() << \"\\n\";\n",
    "\n",
    "*pointer_to_static() = 23;\n",
    "std::cout << *pointer_to_static();\n"
   ]
  },
  {
   "cell_type": "code",
   "execution_count": 6,
   "metadata": {},
   "outputs": [
    {
     "name": "stdout",
     "output_type": "stream",
     "text": [
      "0x7f6610a75750\n",
      "42\n",
      "0x7f6610a75754\n",
      "32614\n"
     ]
    },
    {
     "data": {
      "text/plain": [
       "(std::basic_ostream<char, std::char_traits<char> > &) @0x7f66403a3f40\n"
      ]
     },
     "execution_count": 6,
     "metadata": {},
     "output_type": "execute_result"
    }
   ],
   "source": [
    "int* p = new int(42);\n",
    "std::cout << p << \"\\n\";\n",
    "std::cout << *p << \"\\n\";\n",
    "std::cout << ++p << \"\\n\";\n",
    "std::cout << *p << \"\\n\";"
   ]
  },
  {
   "cell_type": "code",
   "execution_count": 7,
   "metadata": {},
   "outputs": [
    {
     "data": {
      "text/plain": []
     },
     "execution_count": 7,
     "metadata": {},
     "output_type": "execute_result"
    }
   ],
   "source": [
    "int* o = new int[42];"
   ]
  },
  {
   "cell_type": "code",
   "execution_count": 8,
   "metadata": {},
   "outputs": [
    {
     "name": "stdout",
     "output_type": "stream",
     "text": [
      "268435736\n",
      "32614\n",
      "268435736\n",
      "32614\n",
      "670997700\n",
      "32614\n",
      "5\n",
      "32614\n"
     ]
    },
    {
     "data": {
      "text/plain": [
       "(std::basic_ostream<char, std::char_traits<char> > &) @0x7f66403a3f40\n"
      ]
     },
     "execution_count": 8,
     "metadata": {},
     "output_type": "execute_result"
    }
   ],
   "source": [
    "std::cout << *o << \"\\n\";\n",
    "std::cout << *(o+1) << \"\\n\";\n",
    "std::cout << *(o+2) << \"\\n\";\n",
    "std::cout << *(o+3) << \"\\n\";\n",
    "std::cout << *(o+4) << \"\\n\";\n",
    "std::cout << *(o+5) << \"\\n\";\n",
    "std::cout << *(o+6) << \"\\n\";\n",
    "std::cout << *(o+7) << \"\\n\";"
   ]
  },
  {
   "cell_type": "markdown",
   "metadata": {},
   "source": [
    "# Chapter 11 things I am altruisticly recording for future generations\n",
    "\n",
    "oh man I totally got sidetracked in the other window and now the closing music is on r i p\n",
    "\n",
    "overall it was fun, but I didn't focus to the level that I think really effective people do, but focusing too much also has downsides(i.e. getting fixated on the wrong things), which can be curtailed in their own way. Anyway, I'm going to close the stream here, and continue this tomorrow hopefully with some more real examples.\n",
    "\n",
    "* explicit keyword for constructors : says the compiler will use the constructor only when the user expressly invokes the constructor (i.e. the implicit = thing won't use that constructor(only makes sense in constructor with single arg))\n",
    "\n",
    "```\n",
    "//where constructor is set as explicit\n",
    "Vec<int> vi(100);  // ok, explicitly construct the Vec from an int\n",
    "Vec<int> vi = 100;  // error: implicitly construct the Vec (§11.3.3/199) and copy\n",
    "```\n",
    "\n",
    "## 11.3 copy control (i.e. the C++ gestapo)\n",
    "\n",
    "```\n",
    "C++ is the only language in widespread use that gives the programmer this level of control\n",
    "over an object's behavior. Not surprisingly, getting these operations correct is essential in\n",
    "building useful data types.\n",
    "```\n",
    "^this quote makes me feel slight power\n",
    "\n",
    "\n",
    "### Copy constructor\n",
    "Passing an object by value to a function, or returning an object *by value* from a function implicitly copies the object, hence calling the copy constructor to make the new implicit object.\n",
    "\n",
    "explicit version:\n",
    "```\n",
    "vector<Student_info> vs;\n",
    "vector<Student_info> v2 = vs;  // copy vs into v2\n",
    "```\n",
    "\\-> copy constructor should be a const reference and reference type, but since we're defining what it means to make a copy, we can just screw it up\n",
    "\n",
    "Is self-assignment really such a big deal to consider?\n",
    "just remember, initialization != assignment\n",
    "\n",
    "\n",
    "## 11.5 flexible memory management\n",
    "* We don't want to use new and delete because it would make our type restrictive\n",
    "  * `new` both allocates *and* initializes memory>. When constructing a vector of type T, it needs the default constructor for T. Initializing every element can also be expensive and we may in-fact want to defer doing so in many cases!\n",
    "* Instead of using new and delete, we can use &lt;memory&gt;\n",
    "  * provides class called `allocator<T>`, that allocates a block of uninitialized memory, this way we can choose what constructor we want (how would this work exactly?)\n",
    "  \n",
    "4 relevant methods\n",
    "\n",
    "```\n",
    "T* allocate(size_t);\n",
    "void deallocate(T*, size_t);\n",
    "void construct(T*, const T&) ;\n",
    "void destroy(T*);\n",
    "```\n",
    "\n",
    "there is also `uninitialized_copy` and `uninitialized_fill`\n",
    "* uninitialized_fill, copies third argument into seq of uninitialized elements\n",
    "* uninitialized_copy, copies elements from source sequence to a target sequence of uninitialized elements\n",
    "\n",
    "`ptrdiff_t` is a thing [reminder]"
   ]
  },
  {
   "cell_type": "code",
   "execution_count": 9,
   "metadata": {},
   "outputs": [
    {
     "name": "stdout",
     "output_type": "stream",
     "text": [
      "Before\n",
      "23  2\n",
      "After\n",
      "24  3\n",
      "23  2\n"
     ]
    },
    {
     "data": {
      "text/plain": [
       "(std::basic_ostream<char, std::char_traits<char> > &) @0x7f66403a3f40\n"
      ]
     },
     "execution_count": 9,
     "metadata": {},
     "output_type": "execute_result"
    }
   ],
   "source": [
    "struct copy_me{  //pls i need it\n",
    "  public:\n",
    "    copy_me() = default;   //ignoring the rule of 3 here!!\n",
    "    copy_me(copy_me &other){  //healthy side-effects\n",
    "      x = other.x;\n",
    "      y = other.y;\n",
    "      ++other.x;\n",
    "      ++other.y;\n",
    "    }\n",
    "    int x, y;\n",
    "};\n",
    "\n",
    "copy_me r;\n",
    "r.x = 23; r.y = 2;\n",
    "std::cout << \"Before\\n\";\n",
    "std::cout << r.x << \"  \" << r.y << \"\\n\";\n",
    "copy_me r_o = r;\n",
    "std::cout << \"After\\n\";\n",
    "std::cout << r.x << \"  \" << r.y << \"\\n\";\n",
    "std::cout << r_o.x << \"  \" << r_o.y << \"\\n\";"
   ]
  },
  {
   "cell_type": "code",
   "execution_count": 10,
   "metadata": {},
   "outputs": [
    {
     "name": "stdout",
     "output_type": "stream",
     "text": [
      "Before\n",
      "4  14\n",
      "After\n",
      "5  15\n",
      "4  14\n",
      "More After\n",
      "4  14\n",
      "5  15\n"
     ]
    },
    {
     "data": {
      "text/plain": [
       "(std::basic_ostream<char, std::char_traits<char> > &) @0x7f66403a3f40\n"
      ]
     },
     "execution_count": 10,
     "metadata": {},
     "output_type": "execute_result"
    }
   ],
   "source": [
    "struct copy_me_2{  //pls i need it\n",
    "  public:\n",
    "    copy_me_2() = default;   //ignoring the rule of 3 here!!\n",
    "    copy_me_2(copy_me_2 &other){  //healthy side-effects\n",
    "      x = other.x;\n",
    "      y = other.y;\n",
    "      ++other.x;\n",
    "      ++other.y;\n",
    "    }\n",
    "    copy_me_2& operator=(copy_me_2& other){  //not sure what this return type means, clarify w/ chris\n",
    "      //check for self-assignment\n",
    "      if (&other != this){\n",
    "        x = other.x;\n",
    "        y = other.y;\n",
    "        --other.x;\n",
    "        --other.y;\n",
    "      }\n",
    "      return (*this);  //we have to return an object here\n",
    "    }\n",
    "    int x, y;\n",
    "};\n",
    "\n",
    "copy_me_2 e, e_l;\n",
    "e.x = 4; e.y = 14;\n",
    "std::cout << \"Before\\n\";\n",
    "std::cout << e.x << \"  \" << e.y << \"\\n\";\n",
    "copy_me_2 e_o = e;\n",
    "\n",
    "std::cout << \"After\\n\";\n",
    "std::cout << e.x << \"  \" << e.y << \"\\n\";\n",
    "std::cout << e_o.x << \"  \" << e_o.y << \"\\n\";\n",
    "\n",
    "e_l = e;\n",
    "\n",
    "std::cout << \"More After\\n\";\n",
    "std::cout << e.x << \"  \" << e.y << \"\\n\";\n",
    "std::cout << e_l.x << \"  \" << e_l.y << \"\\n\";"
   ]
  },
  {
   "cell_type": "code",
   "execution_count": 12,
   "metadata": {},
   "outputs": [
    {
     "data": {
      "text/plain": []
     },
     "execution_count": 12,
     "metadata": {},
     "output_type": "execute_result"
    }
   ],
   "source": [
    "#include <memory>"
   ]
  },
  {
   "cell_type": "code",
   "execution_count": 14,
   "metadata": {},
   "outputs": [
    {
     "data": {
      "text/plain": []
     },
     "execution_count": 14,
     "metadata": {},
     "output_type": "execute_result"
    }
   ],
   "source": [
    "template <class T> class Vec {\n",
    "public:\n",
    "  typedef T* iterator;\n",
    "  typedef const T* const_iterator;\n",
    "  typedef size_t size_type;\n",
    "  typedef T value_type;\n",
    "  Vec() { create(); }\n",
    "  explicit Vec(size_type n, const T& t = T()) { create(n, t); }\n",
    "  Vec(const Vec& v) { create(v.begin(), v.end()); }\n",
    "  Vec& operator=(const Vec&);\n",
    "  // as defined in §11.3.2/196\n",
    "  ~Vec() { uncreate(); }\n",
    "  T& operator[](size_type i) { return data[i]; }\n",
    "  const T& operator[](size_type i) const { return data[i]; }\n",
    "  void push_back(const T& t) {\n",
    "    if (avail == limit)\n",
    "    grow();\n",
    "    unchecked_append(t);\n",
    "  }\n",
    "  size_type size() const { return avail - data; }\n",
    "  iterator begin() { return data; }\n",
    "  const_iterator begin() const { return data; }\n",
    "  iterator end() { return avail; }\n",
    "  const_iterator end() const { return avail; }\n",
    "private:\n",
    "  iterator data; // first element in the Vec\n",
    "  iterator avail; // (one past) the last element in the Vec\n",
    "  iterator limit; // (one past) the allocated memory\n",
    "  // facilities for memory allocation\n",
    "  std::allocator<T> alloc;\n",
    "  // object to handle memory allocation\n",
    "  // allocate and initialize the underlying array  \n",
    "  void create() ;\n",
    "  void create(size_type, const T&);\n",
    "  void create(const_iterator, const_iterator);\n",
    "  // destroy the elements in the array and free the memory\n",
    "  void uncreate();\n",
    "  // support functions for push_back\n",
    "  void grow();\n",
    "  void unchecked_append(const T&);\n",
    "};"
   ]
  }
 ],
 "metadata": {
  "kernelspec": {
   "display_name": "C++14",
   "language": "",
   "name": "cling-cpp14"
  },
  "language_info": {
   "codemirror_mode": "c++",
   "file_extension": ".c++",
   "mimetype": "text/x-c++src",
   "name": "c++"
  }
 },
 "nbformat": 4,
 "nbformat_minor": 2
}
