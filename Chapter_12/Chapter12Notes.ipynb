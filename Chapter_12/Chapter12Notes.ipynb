{
 "cells": [
  {
   "cell_type": "markdown",
   "metadata": {},
   "source": [
    "# 12 \"Making class objects act like values\"\n",
    "Basically making a class as nice as the std::string class\n",
    "\n",
    "## 12.1 A simple string class\n",
    "Including the vec from the previous chapter"
   ]
  },
  {
   "cell_type": "code",
   "execution_count": 1,
   "metadata": {},
   "outputs": [
    {
     "data": {
      "text/plain": []
     },
     "execution_count": 1,
     "metadata": {},
     "output_type": "execute_result"
    }
   ],
   "source": [
    "#include <cstddef>\n",
    "#include <memory>"
   ]
  },
  {
   "cell_type": "code",
   "execution_count": 2,
   "metadata": {},
   "outputs": [
    {
     "name": "stderr",
     "output_type": "stream",
     "text": [
      "Using raw input\n"
     ]
    },
    {
     "data": {
      "text/plain": []
     },
     "execution_count": 2,
     "metadata": {},
     "output_type": "execute_result"
    }
   ],
   "source": [
    ".rawInput"
   ]
  },
  {
   "cell_type": "code",
   "execution_count": 3,
   "metadata": {},
   "outputs": [
    {
     "data": {
      "text/plain": []
     },
     "execution_count": 3,
     "metadata": {},
     "output_type": "execute_result"
    }
   ],
   "source": [
    "\n",
    "\n",
    "using std::max;\n",
    "\n",
    "template <class T> class Vec {\n",
    " public:\n",
    "  typedef T* iterator;\n",
    "  typedef const T* const_iterator;\n",
    "  typedef size_t size_type;\n",
    "  typedef T value_type;\n",
    "  typedef T& reference;\n",
    "  typedef const T& const_reference;\n",
    "\n",
    "  Vec() { create(); }\n",
    "  explicit Vec(size_type n, const T& t = T()) { create(n, t); }\n",
    "  template <class In> Vec(In i, In j) { create(i, j); }\n",
    "\n",
    "  Vec(const Vec& v) { create(v.begin(), v.end()); }\n",
    "  Vec& operator=(const Vec&);\t// as defined in 11.3.2/196\n",
    "  ~Vec() { uncreate(); }\n",
    "\n",
    "  T& operator[](size_type i) { return data[i]; }\n",
    "  const T& operator[](size_type i) const { return data[i]; }\n",
    "\n",
    "  void push_back(const T& t) {\n",
    "    if (avail == limit) grow();\n",
    "    unchecked_append(t);\n",
    "  }\n",
    "\n",
    "  size_type size() const { return avail - data; }  // changed\n",
    "\n",
    "  iterator begin() { return data; }\n",
    "  const_iterator begin() const { return data; }\n",
    "\n",
    "  iterator end() { return avail; }                 // changed\n",
    "  const_iterator end() const { return avail; }     // changed\n",
    "\n",
    "  void clear() { uncreate(); }\n",
    "  bool empty() const { return data == avail; }\n",
    "\n",
    "  template <class In> void insert(iterator, In, In);\n",
    "  template <class In> void assign(In, In);\n",
    "\n",
    " private:\n",
    "  iterator data;\t// first element in the `Vec'\n",
    "  iterator avail;\t// (one past) the last element in the `Vec'\n",
    "  iterator limit;\t// (one past) the allocated memory\n",
    "\n",
    "  // facilities for memory allocation\n",
    "  std::allocator<T> alloc;\t// object to handle memory allocation\n",
    "\n",
    "  // allocate and initialize the underlying array\n",
    "  void create();\n",
    "  void create(size_type, const T&);\n",
    "  template <class In> void create(In, In);\n",
    "\n",
    "  // destroy the elements in the array and free the memory\n",
    "  void uncreate();\n",
    "\n",
    "  // support functions for `push_back'\n",
    "  void grow();\n",
    "  void unchecked_append(const T&);\n",
    "};\n",
    "\n",
    "// Public functions\n",
    "template <class T> Vec<T>& Vec<T>::operator=(const Vec& rhs) {\n",
    "  // check for self-assignment\n",
    "  if (&rhs != this) {\n",
    "    // free the array in the left-hand side\n",
    "    uncreate();\n",
    "\n",
    "    // copy elements from the right-hand to the left-hand side\n",
    "    create(rhs.begin(), rhs.end());\n",
    "  }\n",
    "\n",
    "  return *this;\n",
    "}\n",
    "\n",
    "template <class T> template <class In> void Vec<T>::insert(iterator p, In i, In j) {\n",
    "  size_type new_size = (avail - data) + (j - i);\n",
    "  iterator new_data = alloc.allocate(new_size);\n",
    "  uninitialized_copy(data, p, new_data);\n",
    "  uninitialized_copy(i, j, new_data + (p - data));\n",
    "  iterator new_avail = uninitialized_copy(p, avail, new_data + (p - data) + (j - i));\n",
    "\n",
    "  uncreate();\n",
    "  \n",
    "  data = new_data;\n",
    "  avail = new_avail;\n",
    "  limit = data + new_size;\n",
    "}\n",
    "\n",
    "template <class T> template <class In> void Vec<T>::assign(In i, In j) {\n",
    "  uncreate();\n",
    "  create(i, j);\n",
    "}\n",
    "\n",
    "// Private functions\n",
    "template <class T> void Vec<T>::create() {\n",
    "  data = avail = limit = 0;\n",
    "}\n",
    "\n",
    "template <class T> void Vec<T>::create(size_type n, const T& val) {\n",
    "  data = alloc.allocate(n);\n",
    "  limit = avail = data + n;\n",
    "  std::uninitialized_fill(data, limit, val);\n",
    "}\n",
    "\n",
    "template <class T> template <class In> void Vec<T>::create(In i, In j) {\n",
    "  data = alloc.allocate(j - i);\n",
    "  limit = avail = std::uninitialized_copy(i, j, data);\n",
    "}\n",
    "\n",
    "template <class T> void Vec<T>::uncreate() {\n",
    "  if (data) {\n",
    "    // destroy (in reverse order) the elements that were constructed\n",
    "    iterator it = avail;\n",
    "    while (it != data) alloc.destroy(--it);\n",
    "\n",
    "    // return all the space that was allocated\n",
    "    alloc.deallocate(data, limit - data);\n",
    "  }\n",
    "\n",
    "  // reset pointers to indicate that the `Vec' is empty again\n",
    "  data = limit = avail = 0;\n",
    "}\n",
    "\n",
    "template <class T> void Vec<T>::grow() {\n",
    "  // when growing, allocate twice as much space as currently in use\n",
    "  size_type new_size = max(2 * (limit - data), ptrdiff_t(1));\n",
    "\n",
    "  // allocate new space and copy existing elements to the new space\n",
    "  iterator new_data = alloc.allocate(new_size);\n",
    "  iterator new_avail = std::uninitialized_copy(data, avail, new_data);\n",
    "\n",
    "  // return the old space\n",
    "  uncreate();\n",
    "\n",
    "  // reset pointers to point to the newly allocated space\n",
    "  data = new_data;\n",
    "  avail = new_avail;\n",
    "  limit = data + new_size;\n",
    "}\n",
    "\n",
    "// assumes `avail' points at allocated, but uninitialized space\n",
    "template <class T> void Vec<T>::unchecked_append(const T& val) {\n",
    "  alloc.construct(avail++, val);\n",
    "}"
   ]
  },
  {
   "cell_type": "code",
   "execution_count": 4,
   "metadata": {},
   "outputs": [
    {
     "name": "stderr",
     "output_type": "stream",
     "text": [
      "Not using raw input\n"
     ]
    },
    {
     "data": {
      "text/plain": []
     },
     "execution_count": 4,
     "metadata": {},
     "output_type": "execute_result"
    }
   ],
   "source": [
    ".rawInput"
   ]
  },
  {
   "cell_type": "markdown",
   "metadata": {},
   "source": [
    "## 12.1 continued, now we define our basic Str class"
   ]
  },
  {
   "cell_type": "code",
   "execution_count": 5,
   "metadata": {},
   "outputs": [
    {
     "data": {
      "text/plain": []
     },
     "execution_count": 5,
     "metadata": {},
     "output_type": "execute_result"
    }
   ],
   "source": [
    "#include <algorithm>\n",
    "#include <iostream>\n",
    "#include <cstring>"
   ]
  },
  {
   "cell_type": "code",
   "execution_count": 6,
   "metadata": {},
   "outputs": [
    {
     "data": {
      "text/plain": []
     },
     "execution_count": 6,
     "metadata": {},
     "output_type": "execute_result"
    }
   ],
   "source": [
    "class Str {\n",
    "public:\n",
    "    typedef Vec<char>::size_type size_type;\n",
    "    Str() = default;\n",
    "    Str(size_type n, char c) : data(n, c) { }\n",
    "    Str(const char* cp) {\n",
    "        std::copy(cp, cp + std::strlen(cp), std::back_inserter(data));\n",
    "    }\n",
    "    \n",
    "    //I didn't realize you could make a class's method and not the class templated, nice!\n",
    "    template <class In> Str(In b, In e) {\n",
    "        std::copy(b, e, std::back_inserter(data));\n",
    "    }\n",
    "    private:\n",
    "        Vec<char> data;\n",
    "};"
   ]
  },
  {
   "cell_type": "markdown",
   "metadata": {},
   "source": [
    "\"In general a class that needs no destructor doesn't need an explicit copy constructor or assignment operator either."
   ]
  },
  {
   "cell_type": "markdown",
   "metadata": {},
   "source": [
    "## 12.2 Automatic Conversions\n",
    "\n",
    "We want the expressions\n",
    "```\n",
    "Str s(\"hello\");\n",
    "Str t = \"hello\";\n",
    "t = \"wow\";\n",
    "```\n",
    "\n",
    "to work, but they have different meanings\n",
    "\n",
    "* constructors also act as _user-defined conversions_\n",
    "  * this created a temporary unnamed object from the constructor, then uses the assignment operator. Pretty obvious I guess\n",
    "\n",
    "2 types of conversions: `other -> this` ,  and `this -> other` (this is going to be in 12.5\n",
    "\n",
    "## 12.3 Str operations\n",
    "\n",
    "We want to define these with our `Str s` object\n",
    "```\n",
    "cin >> s\n",
    "cout << s\n",
    "s[i]\n",
    "s1 + s2\n",
    "```\n",
    "\n",
    "how?! with the keyword `operator`\n",
    "\n",
    "`operator>>` is the name of the function that overloads the input operator, `operator[]` names the index operation, and so on.\n",
    "\n",
    "* For a binary operation, the left operand is always bound to the first parameter, and hte right operand is bound to the second\n",
    "  * so for io operators, we need to add an operator for type cin, cout on the lhs"
   ]
  },
  {
   "cell_type": "code",
   "execution_count": 7,
   "metadata": {},
   "outputs": [
    {
     "name": "stderr",
     "output_type": "stream",
     "text": [
      "Using raw input\n"
     ]
    },
    {
     "data": {
      "text/plain": []
     },
     "execution_count": 7,
     "metadata": {},
     "output_type": "execute_result"
    }
   ],
   "source": [
    ".rawInput"
   ]
  },
  {
   "cell_type": "code",
   "execution_count": 8,
   "metadata": {},
   "outputs": [
    {
     "name": "stderr",
     "output_type": "stream",
     "text": [
      "\u001b[1minput_line_7:31:7: \u001b[0m\u001b[0;1;31merror: \u001b[0m\u001b[1m'data' is a private member of 'Str2'\u001b[0m\n",
      "    s.data.clear();\n",
      "\u001b[0;1;32m      ^\n",
      "\u001b[0m\u001b[1minput_line_7:26:19: \u001b[0m\u001b[0;1;30mnote: \u001b[0mdeclared private here\u001b[0m\n",
      "        Vec<char> data;\n",
      "\u001b[0;1;32m                  ^\n",
      "\u001b[0m\u001b[1minput_line_7:37:14: \u001b[0m\u001b[0;1;31merror: \u001b[0m\u001b[1m'data' is a private member of 'Str2'\u001b[0m\n",
      "        do s.data.push_back(c);\n",
      "\u001b[0;1;32m             ^\n",
      "\u001b[0m\u001b[1minput_line_7:26:19: \u001b[0m\u001b[0;1;30mnote: \u001b[0mdeclared private here\u001b[0m\n",
      "        Vec<char> data;\n",
      "\u001b[0;1;32m                  ^\n",
      "\u001b[0m\u001b[1minput_line_7:46:40: \u001b[0m\u001b[0;1;31merror: \u001b[0m\u001b[1mno member named 'size' in 'Str'\u001b[0m\n",
      "    for (Str2::size_type i = 0; i != s.size(); ++i)\n",
      "\u001b[0;1;32m                                     ~ ^\n",
      "\u001b[0m\u001b[1minput_line_7:47:16: \u001b[0m\u001b[0;1;31merror: \u001b[0m\u001b[1mtype 'const Str' does not provide a subscript operator\u001b[0m\n",
      "        os << s[i];\n",
      "\u001b[0;1;32m              ~^~\n",
      "\u001b[0m"
     ]
    },
    {
     "ename": "ename",
     "evalue": "evalue",
     "output_type": "error",
     "traceback": []
    }
   ],
   "source": [
    "std::istream& operator>>(std::istream&, const Str&);\n",
    "\n",
    "class Str2 {\n",
    "    //lol I hate the friend modifier\n",
    "    friend std::istream& operator>>(std::istream&, Str&);\n",
    "public:\n",
    "    typedef Vec<char>::size_type size_type;\n",
    "    Str2() = default;\n",
    "    Str2(size_type n, char c) : data(n, c) { }\n",
    "    Str2(const char* cp) {\n",
    "        std::copy(cp, cp + std::strlen(cp), std::back_inserter(data));\n",
    "    }\n",
    "    \n",
    "    //I didn't realize you could make a class's method and not the class templated, nice!\n",
    "    template <class In> Str2(In b, In e) {\n",
    "        std::copy(b, e, std::back_inserter(data));\n",
    "    }\n",
    "    \n",
    "    //ask chris why we have 2 separate operators here\n",
    "    char& operator[](size_type i) { return data[i]; };\n",
    "    const char& operator[](size_type i) const { return data[i]; };\n",
    "    \n",
    "\n",
    "    size_type size() const { return data.size(); }\n",
    "    private:\n",
    "        Vec<char> data;\n",
    "};\n",
    "\n",
    "    //io operators exist outside the class :-(\n",
    "std::istream& operator>>(std::istream& is, Str2& s){\n",
    "    s.data.clear();\n",
    "    \n",
    "    char c;\n",
    "    while (is.get(c) && isspace(c))\n",
    "        ;\n",
    "    if (is) {\n",
    "        do s.data.push_back(c);\n",
    "        while (is.get(c) && !isspace(c));\n",
    "        \n",
    "        if (is)\n",
    "            is.unget();\n",
    "    }\n",
    "    return is;\n",
    "}\n",
    "std::ostream& operator<<(std::ostream &os, const Str& s){\n",
    "    for (Str2::size_type i = 0; i != s.size(); ++i)\n",
    "        os << s[i];\n",
    "    return os;\n",
    "}"
   ]
  },
  {
   "cell_type": "code",
   "execution_count": null,
   "metadata": {},
   "outputs": [],
   "source": [
    ".rawInput"
   ]
  },
  {
   "cell_type": "markdown",
   "metadata": {},
   "source": [
    "* define += first and then +\n",
    "* define ++ first and then ++(lol)\n",
    "\n",
    "### mixed type expressions\n",
    "```\n",
    "    \"Hello\" + StrGuy + \"\\n!\";\n",
    "```\n",
    "^since these binary operators are left-associative, this is handles like\n",
    "```\n",
    "    (\"Hello\" + StrGuy) + \"\\n!\";\n",
    "```\n",
    "\n",
    "and then the compiler converts \"Hello\" into an Str before doing the + operator\n",
    "\n",
    "* if you really care a lot about performance you have to create operators for every combination of operands\n",
    "\n",
    "* If a class supports conversions, then it is usually good practice to define binary operators as nonmember functions. That is, both sides of the operand are potentially results of automatic conversions, whereas binary operators as a member restricts the lhs to being already a class type. When the programmer types\n",
    "* \"compound\"/assymetric operators like += should be a member of their class\n",
    "\n",
    "\n",
    "## 12.4 Some conversions are hazardous\n",
    "\n",
    "* yeah so after all that, this is why we have the `explicit` keyword, e.g. for constructors that take a size, so we don't get a compiling `StrObj + 4` which doesn't make any sense\n",
    "\n",
    "## 12.5 Conversion Operators\n",
    "\n",
    "* you can define explicit conversion operators, which say how to convert an object from its type to a target type. Conversion operators must be defined as members of a class.\n",
    "\n",
    "```\n",
    "class Student_info(){\n",
    "public:\n",
    "    operator double() const; //conversion **to** a double class\n",
    "}\n",
    "```\n",
    "* this is what's done in all those cases with `cin >> x; if (cin) { //stuff }, == if (cin >> x) { //stuff }`\n",
    "\n",
    "### Automatic Conversion to char* and ptr types is fraight with memory management pitfalls\n",
    "\n"
   ]
  }
 ],
 "metadata": {
  "kernelspec": {
   "display_name": "C++14",
   "language": "",
   "name": "cling-cpp14"
  },
  "language_info": {
   "codemirror_mode": "c++",
   "file_extension": ".c++",
   "mimetype": "text/x-c++src",
   "name": "c++"
  }
 },
 "nbformat": 4,
 "nbformat_minor": 2
}
