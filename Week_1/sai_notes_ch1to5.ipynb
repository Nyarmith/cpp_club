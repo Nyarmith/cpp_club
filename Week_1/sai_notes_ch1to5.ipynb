{
 "cells": [
  {
   "cell_type": "markdown",
   "metadata": {},
   "source": [
    "## Wow This Is Weird, But Also Cool\n",
    "#### --> This Is Another Markdown Header\n",
    "Written text with embedded code. How crazy! It seems if the markdown syntax doesn't preview as you type, it's probably not working then!\n",
    "\n",
    "Very *strange*. Perhaps I can make it **stranger**. Weird sort of syntax-preview when I use _some-kind-of-formatting_ in advance. apparently __underscores__ have the same syntactic effect as *asterisks*. Finally, mathjax seems to work here. $$\\int_{x=0}^\\infty f(x)\\,dx$$\n"
   ]
  },
  {
   "cell_type": "code",
   "execution_count": null,
   "metadata": {
    "collapsed": true
   },
   "outputs": [],
   "source": [
    "//headers for this notebook\n",
    "#include <iostream>\n",
    "#include <cstdio>\n",
    "#include <vector>\n",
    "#include <deque>\n",
    "#include <list>"
   ]
  },
  {
   "cell_type": "code",
   "execution_count": null,
   "metadata": {
    "collapsed": true
   },
   "outputs": [],
   "source": []
  }
 ],
 "metadata": {
  "kernelspec": {
   "display_name": "C++14",
   "language": "",
   "name": "cling-cpp14"
  },
  "language_info": {
   "codemirror_mode": "c++",
   "file_extension": ".c++",
   "mimetype": "text/x-c++src",
   "name": "c++"
  }
 },
 "nbformat": 4,
 "nbformat_minor": 2
}
